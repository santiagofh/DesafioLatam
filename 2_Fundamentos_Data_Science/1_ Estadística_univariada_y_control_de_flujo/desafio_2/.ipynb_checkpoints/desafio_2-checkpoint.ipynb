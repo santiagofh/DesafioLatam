{
 "cells": [
  {
   "cell_type": "markdown",
   "id": "98228f68",
   "metadata": {},
   "source": [
    "# Desafio 1"
   ]
  },
  {
   "cell_type": "code",
   "execution_count": 5,
   "id": "3e29fb5d",
   "metadata": {},
   "outputs": [],
   "source": [
    "import numpy as np"
   ]
  },
  {
   "cell_type": "code",
   "execution_count": 6,
   "id": "c77868a6",
   "metadata": {},
   "outputs": [
    {
     "data": {
      "text/plain": [
       "array([ 1.,  2.,  3.,  4.,  5.,  6.,  7.,  8.,  9., 10., 11., 12., 13.,\n",
       "       14., 15., 16., 17., 18., 19., 20., 21., 22., 23., 24., 25., 26.,\n",
       "       27., 28., 29., 30., 31., 32., 33., 34., 35., 36., 37., 38., 39.,\n",
       "       40., 41., 42., 43., 44., 45., 46., 47., 48., 49., 50.])"
      ]
     },
     "execution_count": 6,
     "metadata": {},
     "output_type": "execute_result"
    }
   ],
   "source": [
    "array_1=np.linspace(1, 50)\n",
    "array_1"
   ]
  },
  {
   "cell_type": "code",
   "execution_count": 11,
   "id": "7039c695",
   "metadata": {},
   "outputs": [
    {
     "data": {
      "text/plain": [
       "array([100., 101., 102., 103., 104., 105., 106., 107., 108., 109., 110.,\n",
       "       111., 112., 113., 114., 115., 116., 117., 118., 119., 120., 121.,\n",
       "       122., 123., 124., 125., 126., 127., 128., 129., 130., 131., 132.,\n",
       "       133., 134., 135., 136., 137., 138., 139., 140., 141., 142., 143.,\n",
       "       144., 145., 146., 147., 148., 149., 150.])"
      ]
     },
     "execution_count": 11,
     "metadata": {},
     "output_type": "execute_result"
    }
   ],
   "source": [
    "array_2=np.linspace(100, 150, 51)\n",
    "array_2"
   ]
  },
  {
   "cell_type": "markdown",
   "id": "74750023",
   "metadata": {},
   "source": [
    "# Desafio 2\n",
    "\n"
   ]
  },
  {
   "cell_type": "code",
   "execution_count": 18,
   "id": "994d1232",
   "metadata": {},
   "outputs": [
    {
     "name": "stdout",
     "output_type": "stream",
     "text": [
      "El numero 1.0 impar\n",
      "El numero 2.0 par\n",
      "El numero 3.0 impar\n",
      "El numero 4.0 par\n",
      "El numero 5.0 impar\n",
      "El numero 6.0 par\n",
      "El numero 7.0 impar\n",
      "El numero 8.0 par\n",
      "El numero 9.0 impar\n",
      "El numero 10.0 par\n",
      "El numero 11.0 impar\n",
      "El numero 12.0 par\n",
      "El numero 13.0 impar\n",
      "El numero 14.0 par\n",
      "El numero 15.0 impar\n",
      "El numero 16.0 par\n",
      "El numero 17.0 impar\n",
      "El numero 18.0 par\n",
      "El numero 19.0 impar\n",
      "El numero 20.0 par\n",
      "El numero 21.0 impar\n",
      "El numero 22.0 par\n",
      "El numero 23.0 impar\n",
      "El numero 24.0 par\n",
      "El numero 25.0 impar\n",
      "El numero 26.0 par\n",
      "El numero 27.0 impar\n",
      "El numero 28.0 par\n",
      "El numero 29.0 impar\n",
      "El numero 30.0 par\n",
      "El numero 31.0 impar\n",
      "El numero 32.0 par\n",
      "El numero 33.0 impar\n",
      "El numero 34.0 par\n",
      "El numero 35.0 impar\n",
      "El numero 36.0 par\n",
      "El numero 37.0 impar\n",
      "El numero 38.0 par\n",
      "El numero 39.0 impar\n",
      "El numero 40.0 par\n",
      "El numero 41.0 impar\n",
      "El numero 42.0 par\n",
      "El numero 43.0 impar\n",
      "El numero 44.0 par\n",
      "El numero 45.0 impar\n",
      "El numero 46.0 par\n",
      "El numero 47.0 impar\n",
      "El numero 48.0 par\n",
      "El numero 49.0 impar\n",
      "El numero 50.0 par\n"
     ]
    }
   ],
   "source": [
    "for i in array_1:\n",
    "    if i%2==0:\n",
    "      print(\"El numero {} par\".format(i))  \n",
    "    else:\n",
    "      print(\"El numero {} impar\".format(i))  "
   ]
  },
  {
   "cell_type": "code",
   "execution_count": 19,
   "id": "911e65f2",
   "metadata": {},
   "outputs": [
    {
     "name": "stdout",
     "output_type": "stream",
     "text": [
      "El número 100.0 es divisible por 2 o 3\n",
      "El número 101.0 no es divisible por 2 o 3\n",
      "El número 102.0 es divisible por 2 o 3\n",
      "El número 103.0 no es divisible por 2 o 3\n",
      "El número 104.0 es divisible por 2 o 3\n",
      "El número 105.0 es divisible por 2 o 3\n",
      "El número 106.0 es divisible por 2 o 3\n",
      "El número 107.0 no es divisible por 2 o 3\n",
      "El número 108.0 es divisible por 2 o 3\n",
      "El número 109.0 no es divisible por 2 o 3\n",
      "El número 110.0 es divisible por 2 o 3\n",
      "El número 111.0 es divisible por 2 o 3\n",
      "El número 112.0 es divisible por 2 o 3\n",
      "El número 113.0 no es divisible por 2 o 3\n",
      "El número 114.0 es divisible por 2 o 3\n",
      "El número 115.0 no es divisible por 2 o 3\n",
      "El número 116.0 es divisible por 2 o 3\n",
      "El número 117.0 es divisible por 2 o 3\n",
      "El número 118.0 es divisible por 2 o 3\n",
      "El número 119.0 no es divisible por 2 o 3\n",
      "El número 120.0 es divisible por 2 o 3\n",
      "El número 121.0 no es divisible por 2 o 3\n",
      "El número 122.0 es divisible por 2 o 3\n",
      "El número 123.0 es divisible por 2 o 3\n",
      "El número 124.0 es divisible por 2 o 3\n",
      "El número 125.0 no es divisible por 2 o 3\n",
      "El número 126.0 es divisible por 2 o 3\n",
      "El número 127.0 no es divisible por 2 o 3\n",
      "El número 128.0 es divisible por 2 o 3\n",
      "El número 129.0 es divisible por 2 o 3\n",
      "El número 130.0 es divisible por 2 o 3\n",
      "El número 131.0 no es divisible por 2 o 3\n",
      "El número 132.0 es divisible por 2 o 3\n",
      "El número 133.0 no es divisible por 2 o 3\n",
      "El número 134.0 es divisible por 2 o 3\n",
      "El número 135.0 es divisible por 2 o 3\n",
      "El número 136.0 es divisible por 2 o 3\n",
      "El número 137.0 no es divisible por 2 o 3\n",
      "El número 138.0 es divisible por 2 o 3\n",
      "El número 139.0 no es divisible por 2 o 3\n",
      "El número 140.0 es divisible por 2 o 3\n",
      "El número 141.0 es divisible por 2 o 3\n",
      "El número 142.0 es divisible por 2 o 3\n",
      "El número 143.0 no es divisible por 2 o 3\n",
      "El número 144.0 es divisible por 2 o 3\n",
      "El número 145.0 no es divisible por 2 o 3\n",
      "El número 146.0 es divisible por 2 o 3\n",
      "El número 147.0 es divisible por 2 o 3\n",
      "El número 148.0 es divisible por 2 o 3\n",
      "El número 149.0 no es divisible por 2 o 3\n",
      "El número 150.0 es divisible por 2 o 3\n"
     ]
    }
   ],
   "source": [
    "for i in array_2:\n",
    "    if (i % 2 == 0) | (i % 3 == 0): \n",
    "        print(\"El número {} es divisible por 2 o 3\".format(i))\n",
    "    else:\n",
    "        print(\"El número {} no es divisible por 2 o 3\".format(i))"
   ]
  },
  {
   "cell_type": "code",
   "execution_count": 20,
   "id": "08c2e0b1",
   "metadata": {},
   "outputs": [
    {
     "name": "stdout",
     "output_type": "stream",
     "text": [
      "El número 100.0 no es divisible por 2 o 3\n",
      "El número 101.0 no es divisible por 2 o 3\n",
      "El número 102.0 es divisible por 2 o 3\n",
      "El número 103.0 no es divisible por 2 o 3\n",
      "El número 104.0 no es divisible por 2 o 3\n",
      "El número 105.0 no es divisible por 2 o 3\n",
      "El número 106.0 no es divisible por 2 o 3\n",
      "El número 107.0 no es divisible por 2 o 3\n",
      "El número 108.0 es divisible por 2 o 3\n",
      "El número 109.0 no es divisible por 2 o 3\n",
      "El número 110.0 no es divisible por 2 o 3\n",
      "El número 111.0 no es divisible por 2 o 3\n",
      "El número 112.0 no es divisible por 2 o 3\n",
      "El número 113.0 no es divisible por 2 o 3\n",
      "El número 114.0 es divisible por 2 o 3\n",
      "El número 115.0 no es divisible por 2 o 3\n",
      "El número 116.0 no es divisible por 2 o 3\n",
      "El número 117.0 no es divisible por 2 o 3\n",
      "El número 118.0 no es divisible por 2 o 3\n",
      "El número 119.0 no es divisible por 2 o 3\n",
      "El número 120.0 es divisible por 2 o 3\n",
      "El número 121.0 no es divisible por 2 o 3\n",
      "El número 122.0 no es divisible por 2 o 3\n",
      "El número 123.0 no es divisible por 2 o 3\n",
      "El número 124.0 no es divisible por 2 o 3\n",
      "El número 125.0 no es divisible por 2 o 3\n",
      "El número 126.0 es divisible por 2 o 3\n",
      "El número 127.0 no es divisible por 2 o 3\n",
      "El número 128.0 no es divisible por 2 o 3\n",
      "El número 129.0 no es divisible por 2 o 3\n",
      "El número 130.0 no es divisible por 2 o 3\n",
      "El número 131.0 no es divisible por 2 o 3\n",
      "El número 132.0 es divisible por 2 o 3\n",
      "El número 133.0 no es divisible por 2 o 3\n",
      "El número 134.0 no es divisible por 2 o 3\n",
      "El número 135.0 no es divisible por 2 o 3\n",
      "El número 136.0 no es divisible por 2 o 3\n",
      "El número 137.0 no es divisible por 2 o 3\n",
      "El número 138.0 es divisible por 2 o 3\n",
      "El número 139.0 no es divisible por 2 o 3\n",
      "El número 140.0 no es divisible por 2 o 3\n",
      "El número 141.0 no es divisible por 2 o 3\n",
      "El número 142.0 no es divisible por 2 o 3\n",
      "El número 143.0 no es divisible por 2 o 3\n",
      "El número 144.0 es divisible por 2 o 3\n",
      "El número 145.0 no es divisible por 2 o 3\n",
      "El número 146.0 no es divisible por 2 o 3\n",
      "El número 147.0 no es divisible por 2 o 3\n",
      "El número 148.0 no es divisible por 2 o 3\n",
      "El número 149.0 no es divisible por 2 o 3\n",
      "El número 150.0 es divisible por 2 o 3\n"
     ]
    }
   ],
   "source": [
    "for i in array_2:\n",
    "    if (i % 2 == 0) & (i % 3 == 0): \n",
    "        print(\"El número {} es divisible por 2 o 3\".format(i))\n",
    "    else:\n",
    "        print(\"El número {} no es divisible por 2 o 3\".format(i))"
   ]
  },
  {
   "cell_type": "code",
   "execution_count": 22,
   "id": "35c78f32",
   "metadata": {},
   "outputs": [
    {
     "name": "stdout",
     "output_type": "stream",
     "text": [
      "El número 100.0 no es divisible por 3 ni por 2\n",
      "El número 101.0 no es divisible por 3 ni por 2\n",
      "El número 102.0 no es divisible por 3 ni por 2\n",
      "El número 103.0 no es divisible por 3 ni por 2\n",
      "El número 104.0 no es divisible por 3 ni por 2\n",
      "El número 105.0 es divisible por 3 pero no por 2\n",
      "El número 106.0 no es divisible por 3 ni por 2\n",
      "El número 107.0 no es divisible por 3 ni por 2\n",
      "El número 108.0 no es divisible por 3 ni por 2\n",
      "El número 109.0 no es divisible por 3 ni por 2\n",
      "El número 110.0 no es divisible por 3 ni por 2\n",
      "El número 111.0 es divisible por 3 pero no por 2\n",
      "El número 112.0 no es divisible por 3 ni por 2\n",
      "El número 113.0 no es divisible por 3 ni por 2\n",
      "El número 114.0 no es divisible por 3 ni por 2\n",
      "El número 115.0 no es divisible por 3 ni por 2\n",
      "El número 116.0 no es divisible por 3 ni por 2\n",
      "El número 117.0 es divisible por 3 pero no por 2\n",
      "El número 118.0 no es divisible por 3 ni por 2\n",
      "El número 119.0 no es divisible por 3 ni por 2\n",
      "El número 120.0 no es divisible por 3 ni por 2\n",
      "El número 121.0 no es divisible por 3 ni por 2\n",
      "El número 122.0 no es divisible por 3 ni por 2\n",
      "El número 123.0 es divisible por 3 pero no por 2\n",
      "El número 124.0 no es divisible por 3 ni por 2\n",
      "El número 125.0 no es divisible por 3 ni por 2\n",
      "El número 126.0 no es divisible por 3 ni por 2\n",
      "El número 127.0 no es divisible por 3 ni por 2\n",
      "El número 128.0 no es divisible por 3 ni por 2\n",
      "El número 129.0 es divisible por 3 pero no por 2\n",
      "El número 130.0 no es divisible por 3 ni por 2\n",
      "El número 131.0 no es divisible por 3 ni por 2\n",
      "El número 132.0 no es divisible por 3 ni por 2\n",
      "El número 133.0 no es divisible por 3 ni por 2\n",
      "El número 134.0 no es divisible por 3 ni por 2\n",
      "El número 135.0 es divisible por 3 pero no por 2\n",
      "El número 136.0 no es divisible por 3 ni por 2\n",
      "El número 137.0 no es divisible por 3 ni por 2\n",
      "El número 138.0 no es divisible por 3 ni por 2\n",
      "El número 139.0 no es divisible por 3 ni por 2\n",
      "El número 140.0 no es divisible por 3 ni por 2\n",
      "El número 141.0 es divisible por 3 pero no por 2\n",
      "El número 142.0 no es divisible por 3 ni por 2\n",
      "El número 143.0 no es divisible por 3 ni por 2\n",
      "El número 144.0 no es divisible por 3 ni por 2\n",
      "El número 145.0 no es divisible por 3 ni por 2\n",
      "El número 146.0 no es divisible por 3 ni por 2\n",
      "El número 147.0 es divisible por 3 pero no por 2\n",
      "El número 148.0 no es divisible por 3 ni por 2\n",
      "El número 149.0 no es divisible por 3 ni por 2\n",
      "El número 150.0 no es divisible por 3 ni por 2\n"
     ]
    }
   ],
   "source": [
    "for i in array_2:\n",
    "    if (i % 3 == 0) & (i % 2 != 0): \n",
    "        print(\"El número {} es divisible por 3 pero no por 2\".format(i))\n",
    "    else:\n",
    "        print(\"El número {} no es divisible por 3 ni por 2\".format(i))"
   ]
  },
  {
   "cell_type": "code",
   "execution_count": 24,
   "id": "e300ded9",
   "metadata": {},
   "outputs": [
    {
     "name": "stdout",
     "output_type": "stream",
     "text": [
      "El número 100.0 es divisible por 2 y 3\n",
      "El número 101.0 no es divisible por 2 ni 3\n",
      "El número 102.0 es divisible por 2 y 3\n",
      "El número 103.0 no es divisible por 2 ni 3\n",
      "El número 104.0 es divisible por 2 y 3\n",
      "El número 105.0 es divisible por 2 y 3\n",
      "El número 106.0 es divisible por 2 y 3\n",
      "El número 107.0 no es divisible por 2 ni 3\n",
      "El número 108.0 es divisible por 2 y 3\n",
      "El número 109.0 no es divisible por 2 ni 3\n",
      "El número 110.0 es divisible por 2 y 3\n",
      "El número 111.0 es divisible por 2 y 3\n",
      "El número 112.0 es divisible por 2 y 3\n",
      "El número 113.0 no es divisible por 2 ni 3\n",
      "El número 114.0 es divisible por 2 y 3\n",
      "El número 115.0 no es divisible por 2 ni 3\n",
      "El número 116.0 es divisible por 2 y 3\n",
      "El número 117.0 es divisible por 2 y 3\n",
      "El número 118.0 es divisible por 2 y 3\n",
      "El número 119.0 no es divisible por 2 ni 3\n",
      "El número 120.0 es divisible por 2 y 3\n",
      "El número 121.0 no es divisible por 2 ni 3\n",
      "El número 122.0 es divisible por 2 y 3\n",
      "El número 123.0 es divisible por 2 y 3\n",
      "El número 124.0 es divisible por 2 y 3\n",
      "El número 125.0 no es divisible por 2 ni 3\n",
      "El número 126.0 es divisible por 2 y 3\n",
      "El número 127.0 no es divisible por 2 ni 3\n",
      "El número 128.0 es divisible por 2 y 3\n",
      "El número 129.0 es divisible por 2 y 3\n",
      "El número 130.0 es divisible por 2 y 3\n",
      "El número 131.0 no es divisible por 2 ni 3\n",
      "El número 132.0 es divisible por 2 y 3\n",
      "El número 133.0 no es divisible por 2 ni 3\n",
      "El número 134.0 es divisible por 2 y 3\n",
      "El número 135.0 es divisible por 2 y 3\n",
      "El número 136.0 es divisible por 2 y 3\n",
      "El número 137.0 no es divisible por 2 ni 3\n",
      "El número 138.0 es divisible por 2 y 3\n",
      "El número 139.0 no es divisible por 2 ni 3\n",
      "El número 140.0 es divisible por 2 y 3\n",
      "El número 141.0 es divisible por 2 y 3\n",
      "El número 142.0 es divisible por 2 y 3\n",
      "El número 143.0 no es divisible por 2 ni 3\n",
      "El número 144.0 es divisible por 2 y 3\n",
      "El número 145.0 no es divisible por 2 ni 3\n",
      "El número 146.0 es divisible por 2 y 3\n",
      "El número 147.0 es divisible por 2 y 3\n",
      "El número 148.0 es divisible por 2 y 3\n",
      "El número 149.0 no es divisible por 2 ni 3\n",
      "El número 150.0 es divisible por 2 y 3\n"
     ]
    }
   ],
   "source": [
    "for i in array_2:\n",
    "    if (i % 3 != 0) & (i % 2 != 0): \n",
    "        print(\"El número {} no es divisible por 2 ni 3\".format(i))\n",
    "    else:\n",
    "        print(\"El número {} es divisible por 2 o 3\".format(i))"
   ]
  },
  {
   "cell_type": "markdown",
   "id": "0affd1b1",
   "metadata": {},
   "source": [
    "# Desafio 4: Correccion de errores\n",
    "~~~~~\n",
    "for i in range(100):\n",
    "    print(I**2)\n",
    "\n",
    "NameError                                 Traceback (most recent call last)\n",
    "/var/folders/2t/0b9zct996pqd07yvqjz4g_f80000gn/T/ipykernel_1005/4213348250.py in <module>\n",
    "      1 for i in range(100):\n",
    "----> 2     print(I**2)\n",
    "\n",
    "NameError: name 'I' is not defined\n",
    "~~~~~\n",
    "\n",
    "El error se debe a que la variable 'I' no está definida. Para solucionar este problema se debe o definir la variable o se asume que lo que queria imprimir es la variable 'i'\n",
    "\n",
    "~~~~~\n",
    "for i in range(100):\n",
    "   print(I**2)\n",
    "~~~~~\n"
   ]
  },
  {
   "cell_type": "markdown",
   "id": "6f3a3f8b",
   "metadata": {},
   "source": [
    "# Desafio 5"
   ]
  },
  {
   "cell_type": "code",
   "execution_count": 2,
   "id": "9240640a",
   "metadata": {},
   "outputs": [
    {
     "data": {
      "text/plain": [
       "1    80\n",
       "0    64\n",
       "Name: underperforming, dtype: int64"
      ]
     },
     "execution_count": 2,
     "metadata": {},
     "output_type": "execute_result"
    }
   ],
   "source": [
    "import pandas as pd \n",
    "import numpy as np\n",
    "flights=pd.read_csv(\"flights.csv\")\n",
    "passengers_mean=np.mean(flights.passengers)\n",
    "flights['underperforming']=0\n",
    "for index, row in flights.iterrows():\n",
    "    if row.passengers <= passengers_mean:\n",
    "        flights.at[index,'underperforming']=1\n",
    "flights.underperforming.value_counts()"
   ]
  },
  {
   "cell_type": "markdown",
   "id": "0d3416fb",
   "metadata": {},
   "source": [
    "# Desafio 6\n",
    "Desafío 6\n",
    "Hacer un loop que clasifique los meses donde la cantidad de pasajeros se escapa de la tendencia.\n",
    "- Para ello, genere dos objetos que guarden la media general y la desviación estándar general de ​passengers​.\n",
    "- Genere una nueva columna en la tabla de datos que se llame ​outlier​ y asignele 0.\n",
    "- Ejecuten un loop que recorra cada observación de ​passengers​, donde si la observación se escapa de la tendencia sea 1, de lo contrario 0.\n",
    "- Para clasificar los casos que se escapen la tendencia, la observación debe satisfacer una de las siguientes condiciones:\n",
    " - La observación debe ser menor a la media menos la desviación estándar, o\n",
    " - La observación debe ser mayor a la media más la desviación estándar. ○ ¿Cuántas observaciones se pueden clasificar como casos extremos?"
   ]
  },
  {
   "cell_type": "code",
   "execution_count": 3,
   "id": "70f53786",
   "metadata": {},
   "outputs": [
    {
     "name": "stdout",
     "output_type": "stream",
     "text": [
      "   year     month  passengers\n",
      "0  1949   January         112\n",
      "1  1949  February         118\n",
      "2  1949     March         132\n",
      "3  1949     April         129\n",
      "4  1949       May         121\n",
      "280.2986111111111\n",
      "119.54904153277147\n"
     ]
    }
   ],
   "source": [
    "import pandas as pd \n",
    "import numpy as np\n",
    "flights=pd.read_csv(\"flights.csv\")\n",
    "print(flights.head())\n",
    "passengers_mean=np.mean(flights.passengers)\n",
    "print(passengers_mean)\n",
    "passengers_std=np.std(flights.passengers)\n",
    "print(passengers_std)\n"
   ]
  },
  {
   "cell_type": "markdown",
   "id": "bfff474d",
   "metadata": {},
   "source": [
    "Genere una nueva columna en la tabla de datos que se llame ​outlier​ y asignele 0."
   ]
  },
  {
   "cell_type": "code",
   "execution_count": 4,
   "id": "d01a1592",
   "metadata": {},
   "outputs": [],
   "source": [
    "flights['outlier']=0"
   ]
  },
  {
   "cell_type": "markdown",
   "id": "227042b4",
   "metadata": {},
   "source": [
    "Ejecuten un loop que recorra cada observación de ​passengers​, donde si la observación se escapa de la tendencia sea 1, de lo contrario 0."
   ]
  },
  {
   "cell_type": "code",
   "execution_count": 5,
   "id": "8191ab36",
   "metadata": {},
   "outputs": [],
   "source": [
    "for i,j in flights.iterrows():\n",
    "    if (j.passengers <= passengers_mean-passengers_std) or (j.passengers >= passengers_mean+passengers_std):\n",
    "        flights.at[i,'outlier']=1.0\n",
    "    else:\n",
    "        flights.at[i,'outlier']=0"
   ]
  },
  {
   "cell_type": "code",
   "execution_count": 6,
   "id": "eabc06e4",
   "metadata": {},
   "outputs": [
    {
     "name": "stdout",
     "output_type": "stream",
     "text": [
      "160.74956957833962\n",
      "399.84765264388255\n"
     ]
    },
    {
     "data": {
      "text/html": [
       "<div>\n",
       "<style scoped>\n",
       "    .dataframe tbody tr th:only-of-type {\n",
       "        vertical-align: middle;\n",
       "    }\n",
       "\n",
       "    .dataframe tbody tr th {\n",
       "        vertical-align: top;\n",
       "    }\n",
       "\n",
       "    .dataframe thead th {\n",
       "        text-align: right;\n",
       "    }\n",
       "</style>\n",
       "<table border=\"1\" class=\"dataframe\">\n",
       "  <thead>\n",
       "    <tr style=\"text-align: right;\">\n",
       "      <th></th>\n",
       "      <th>year</th>\n",
       "      <th>month</th>\n",
       "      <th>passengers</th>\n",
       "      <th>outlier</th>\n",
       "    </tr>\n",
       "  </thead>\n",
       "  <tbody>\n",
       "    <tr>\n",
       "      <th>0</th>\n",
       "      <td>1949</td>\n",
       "      <td>January</td>\n",
       "      <td>112</td>\n",
       "      <td>1</td>\n",
       "    </tr>\n",
       "    <tr>\n",
       "      <th>1</th>\n",
       "      <td>1949</td>\n",
       "      <td>February</td>\n",
       "      <td>118</td>\n",
       "      <td>1</td>\n",
       "    </tr>\n",
       "    <tr>\n",
       "      <th>2</th>\n",
       "      <td>1949</td>\n",
       "      <td>March</td>\n",
       "      <td>132</td>\n",
       "      <td>1</td>\n",
       "    </tr>\n",
       "    <tr>\n",
       "      <th>3</th>\n",
       "      <td>1949</td>\n",
       "      <td>April</td>\n",
       "      <td>129</td>\n",
       "      <td>1</td>\n",
       "    </tr>\n",
       "    <tr>\n",
       "      <th>4</th>\n",
       "      <td>1949</td>\n",
       "      <td>May</td>\n",
       "      <td>121</td>\n",
       "      <td>1</td>\n",
       "    </tr>\n",
       "    <tr>\n",
       "      <th>...</th>\n",
       "      <td>...</td>\n",
       "      <td>...</td>\n",
       "      <td>...</td>\n",
       "      <td>...</td>\n",
       "    </tr>\n",
       "    <tr>\n",
       "      <th>139</th>\n",
       "      <td>1960</td>\n",
       "      <td>August</td>\n",
       "      <td>606</td>\n",
       "      <td>1</td>\n",
       "    </tr>\n",
       "    <tr>\n",
       "      <th>140</th>\n",
       "      <td>1960</td>\n",
       "      <td>September</td>\n",
       "      <td>508</td>\n",
       "      <td>1</td>\n",
       "    </tr>\n",
       "    <tr>\n",
       "      <th>141</th>\n",
       "      <td>1960</td>\n",
       "      <td>October</td>\n",
       "      <td>461</td>\n",
       "      <td>1</td>\n",
       "    </tr>\n",
       "    <tr>\n",
       "      <th>142</th>\n",
       "      <td>1960</td>\n",
       "      <td>November</td>\n",
       "      <td>390</td>\n",
       "      <td>0</td>\n",
       "    </tr>\n",
       "    <tr>\n",
       "      <th>143</th>\n",
       "      <td>1960</td>\n",
       "      <td>December</td>\n",
       "      <td>432</td>\n",
       "      <td>1</td>\n",
       "    </tr>\n",
       "  </tbody>\n",
       "</table>\n",
       "<p>144 rows × 4 columns</p>\n",
       "</div>"
      ],
      "text/plain": [
       "     year      month  passengers  outlier\n",
       "0    1949    January         112        1\n",
       "1    1949   February         118        1\n",
       "2    1949      March         132        1\n",
       "3    1949      April         129        1\n",
       "4    1949        May         121        1\n",
       "..    ...        ...         ...      ...\n",
       "139  1960     August         606        1\n",
       "140  1960  September         508        1\n",
       "141  1960    October         461        1\n",
       "142  1960   November         390        0\n",
       "143  1960   December         432        1\n",
       "\n",
       "[144 rows x 4 columns]"
      ]
     },
     "execution_count": 6,
     "metadata": {},
     "output_type": "execute_result"
    }
   ],
   "source": [
    "print(passengers_mean-passengers_std)\n",
    "print(passengers_mean+passengers_std)\n",
    "flights"
   ]
  },
  {
   "cell_type": "code",
   "execution_count": 8,
   "id": "281ffaf7",
   "metadata": {},
   "outputs": [
    {
     "ename": "ModuleNotFoundError",
     "evalue": "No module named 'openpyxl'",
     "output_type": "error",
     "traceback": [
      "\u001b[0;31m---------------------------------------------------------------------------\u001b[0m",
      "\u001b[0;31mModuleNotFoundError\u001b[0m                       Traceback (most recent call last)",
      "\u001b[0;32m/var/folders/2t/0b9zct996pqd07yvqjz4g_f80000gn/T/ipykernel_38499/597669271.py\u001b[0m in \u001b[0;36m<module>\u001b[0;34m\u001b[0m\n\u001b[0;32m----> 1\u001b[0;31m \u001b[0mflights\u001b[0m\u001b[0;34m.\u001b[0m\u001b[0mto_excel\u001b[0m\u001b[0;34m(\u001b[0m\u001b[0;34m'flights.xlsx'\u001b[0m\u001b[0;34m)\u001b[0m\u001b[0;34m\u001b[0m\u001b[0;34m\u001b[0m\u001b[0m\n\u001b[0m",
      "\u001b[0;32m~/miniforge3/lib/python3.9/site-packages/pandas/core/generic.py\u001b[0m in \u001b[0;36mto_excel\u001b[0;34m(self, excel_writer, sheet_name, na_rep, float_format, columns, header, index, index_label, startrow, startcol, engine, merge_cells, encoding, inf_rep, verbose, freeze_panes, storage_options)\u001b[0m\n\u001b[1;32m   2282\u001b[0m             \u001b[0minf_rep\u001b[0m\u001b[0;34m=\u001b[0m\u001b[0minf_rep\u001b[0m\u001b[0;34m,\u001b[0m\u001b[0;34m\u001b[0m\u001b[0;34m\u001b[0m\u001b[0m\n\u001b[1;32m   2283\u001b[0m         )\n\u001b[0;32m-> 2284\u001b[0;31m         formatter.write(\n\u001b[0m\u001b[1;32m   2285\u001b[0m             \u001b[0mexcel_writer\u001b[0m\u001b[0;34m,\u001b[0m\u001b[0;34m\u001b[0m\u001b[0;34m\u001b[0m\u001b[0m\n\u001b[1;32m   2286\u001b[0m             \u001b[0msheet_name\u001b[0m\u001b[0;34m=\u001b[0m\u001b[0msheet_name\u001b[0m\u001b[0;34m,\u001b[0m\u001b[0;34m\u001b[0m\u001b[0;34m\u001b[0m\u001b[0m\n",
      "\u001b[0;32m~/miniforge3/lib/python3.9/site-packages/pandas/io/formats/excel.py\u001b[0m in \u001b[0;36mwrite\u001b[0;34m(self, writer, sheet_name, startrow, startcol, freeze_panes, engine, storage_options)\u001b[0m\n\u001b[1;32m    832\u001b[0m             \u001b[0;31m# error: Cannot instantiate abstract class 'ExcelWriter' with abstract\u001b[0m\u001b[0;34m\u001b[0m\u001b[0;34m\u001b[0m\u001b[0;34m\u001b[0m\u001b[0m\n\u001b[1;32m    833\u001b[0m             \u001b[0;31m# attributes 'engine', 'save', 'supported_extensions' and 'write_cells'\u001b[0m\u001b[0;34m\u001b[0m\u001b[0;34m\u001b[0m\u001b[0;34m\u001b[0m\u001b[0m\n\u001b[0;32m--> 834\u001b[0;31m             writer = ExcelWriter(  # type: ignore[abstract]\n\u001b[0m\u001b[1;32m    835\u001b[0m                 \u001b[0mwriter\u001b[0m\u001b[0;34m,\u001b[0m \u001b[0mengine\u001b[0m\u001b[0;34m=\u001b[0m\u001b[0mengine\u001b[0m\u001b[0;34m,\u001b[0m \u001b[0mstorage_options\u001b[0m\u001b[0;34m=\u001b[0m\u001b[0mstorage_options\u001b[0m\u001b[0;34m\u001b[0m\u001b[0;34m\u001b[0m\u001b[0m\n\u001b[1;32m    836\u001b[0m             )\n",
      "\u001b[0;32m~/miniforge3/lib/python3.9/site-packages/pandas/io/excel/_openpyxl.py\u001b[0m in \u001b[0;36m__init__\u001b[0;34m(self, path, engine, date_format, datetime_format, mode, storage_options, if_sheet_exists, engine_kwargs, **kwargs)\u001b[0m\n\u001b[1;32m     46\u001b[0m     ):\n\u001b[1;32m     47\u001b[0m         \u001b[0;31m# Use the openpyxl module as the Excel writer.\u001b[0m\u001b[0;34m\u001b[0m\u001b[0;34m\u001b[0m\u001b[0;34m\u001b[0m\u001b[0m\n\u001b[0;32m---> 48\u001b[0;31m         \u001b[0;32mfrom\u001b[0m \u001b[0mopenpyxl\u001b[0m\u001b[0;34m.\u001b[0m\u001b[0mworkbook\u001b[0m \u001b[0;32mimport\u001b[0m \u001b[0mWorkbook\u001b[0m\u001b[0;34m\u001b[0m\u001b[0;34m\u001b[0m\u001b[0m\n\u001b[0m\u001b[1;32m     49\u001b[0m \u001b[0;34m\u001b[0m\u001b[0m\n\u001b[1;32m     50\u001b[0m         \u001b[0mengine_kwargs\u001b[0m \u001b[0;34m=\u001b[0m \u001b[0mcombine_kwargs\u001b[0m\u001b[0;34m(\u001b[0m\u001b[0mengine_kwargs\u001b[0m\u001b[0;34m,\u001b[0m \u001b[0mkwargs\u001b[0m\u001b[0;34m)\u001b[0m\u001b[0;34m\u001b[0m\u001b[0;34m\u001b[0m\u001b[0m\n",
      "\u001b[0;31mModuleNotFoundError\u001b[0m: No module named 'openpyxl'"
     ]
    }
   ],
   "source": [
    "flights.to_excel('flights.xlsx')"
   ]
  },
  {
   "cell_type": "code",
   "execution_count": null,
   "id": "958a21e4",
   "metadata": {},
   "outputs": [],
   "source": []
  },
  {
   "cell_type": "code",
   "execution_count": null,
   "id": "a8070cfd",
   "metadata": {},
   "outputs": [],
   "source": []
  }
 ],
 "metadata": {
  "interpreter": {
   "hash": "72d69218b7fb2ce1663efa0b5e8f9de2bd757b21f6b239bd8d395fb92f34789b"
  },
  "kernelspec": {
   "display_name": "Python 3.9.5 64-bit ('base': conda)",
   "language": "python",
   "name": "python395jvsc74a57bd072d69218b7fb2ce1663efa0b5e8f9de2bd757b21f6b239bd8d395fb92f34789b"
  },
  "language_info": {
   "codemirror_mode": {
    "name": "ipython",
    "version": 3
   },
   "file_extension": ".py",
   "mimetype": "text/x-python",
   "name": "python",
   "nbconvert_exporter": "python",
   "pygments_lexer": "ipython3",
   "version": "3.9.5"
  }
 },
 "nbformat": 4,
 "nbformat_minor": 5
}
