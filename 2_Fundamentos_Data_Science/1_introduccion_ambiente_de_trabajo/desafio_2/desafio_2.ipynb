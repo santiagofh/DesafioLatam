{
 "cells": [
  {
   "cell_type": "markdown",
   "id": "98228f68",
   "metadata": {},
   "source": [
    "# Desafio 1"
   ]
  },
  {
   "cell_type": "code",
   "execution_count": 5,
   "id": "3e29fb5d",
   "metadata": {},
   "outputs": [],
   "source": [
    "import numpy as np"
   ]
  },
  {
   "cell_type": "code",
   "execution_count": 6,
   "id": "c77868a6",
   "metadata": {},
   "outputs": [
    {
     "data": {
      "text/plain": [
       "array([ 1.,  2.,  3.,  4.,  5.,  6.,  7.,  8.,  9., 10., 11., 12., 13.,\n",
       "       14., 15., 16., 17., 18., 19., 20., 21., 22., 23., 24., 25., 26.,\n",
       "       27., 28., 29., 30., 31., 32., 33., 34., 35., 36., 37., 38., 39.,\n",
       "       40., 41., 42., 43., 44., 45., 46., 47., 48., 49., 50.])"
      ]
     },
     "execution_count": 6,
     "metadata": {},
     "output_type": "execute_result"
    }
   ],
   "source": [
    "array_1=np.linspace(1, 50)\n",
    "array_1"
   ]
  },
  {
   "cell_type": "code",
   "execution_count": 11,
   "id": "7039c695",
   "metadata": {},
   "outputs": [
    {
     "data": {
      "text/plain": [
       "array([100., 101., 102., 103., 104., 105., 106., 107., 108., 109., 110.,\n",
       "       111., 112., 113., 114., 115., 116., 117., 118., 119., 120., 121.,\n",
       "       122., 123., 124., 125., 126., 127., 128., 129., 130., 131., 132.,\n",
       "       133., 134., 135., 136., 137., 138., 139., 140., 141., 142., 143.,\n",
       "       144., 145., 146., 147., 148., 149., 150.])"
      ]
     },
     "execution_count": 11,
     "metadata": {},
     "output_type": "execute_result"
    }
   ],
   "source": [
    "array_2=np.linspace(100, 150, 51)\n",
    "array_2"
   ]
  },
  {
   "cell_type": "markdown",
   "id": "74750023",
   "metadata": {},
   "source": [
    "# Desafio 2\n",
    "\n"
   ]
  },
  {
   "cell_type": "code",
   "execution_count": 18,
   "id": "994d1232",
   "metadata": {},
   "outputs": [
    {
     "name": "stdout",
     "output_type": "stream",
     "text": [
      "El numero 1.0 impar\n",
      "El numero 2.0 par\n",
      "El numero 3.0 impar\n",
      "El numero 4.0 par\n",
      "El numero 5.0 impar\n",
      "El numero 6.0 par\n",
      "El numero 7.0 impar\n",
      "El numero 8.0 par\n",
      "El numero 9.0 impar\n",
      "El numero 10.0 par\n",
      "El numero 11.0 impar\n",
      "El numero 12.0 par\n",
      "El numero 13.0 impar\n",
      "El numero 14.0 par\n",
      "El numero 15.0 impar\n",
      "El numero 16.0 par\n",
      "El numero 17.0 impar\n",
      "El numero 18.0 par\n",
      "El numero 19.0 impar\n",
      "El numero 20.0 par\n",
      "El numero 21.0 impar\n",
      "El numero 22.0 par\n",
      "El numero 23.0 impar\n",
      "El numero 24.0 par\n",
      "El numero 25.0 impar\n",
      "El numero 26.0 par\n",
      "El numero 27.0 impar\n",
      "El numero 28.0 par\n",
      "El numero 29.0 impar\n",
      "El numero 30.0 par\n",
      "El numero 31.0 impar\n",
      "El numero 32.0 par\n",
      "El numero 33.0 impar\n",
      "El numero 34.0 par\n",
      "El numero 35.0 impar\n",
      "El numero 36.0 par\n",
      "El numero 37.0 impar\n",
      "El numero 38.0 par\n",
      "El numero 39.0 impar\n",
      "El numero 40.0 par\n",
      "El numero 41.0 impar\n",
      "El numero 42.0 par\n",
      "El numero 43.0 impar\n",
      "El numero 44.0 par\n",
      "El numero 45.0 impar\n",
      "El numero 46.0 par\n",
      "El numero 47.0 impar\n",
      "El numero 48.0 par\n",
      "El numero 49.0 impar\n",
      "El numero 50.0 par\n"
     ]
    }
   ],
   "source": [
    "for i in array_1:\n",
    "    if i%2==0:\n",
    "      print(\"El numero {} par\".format(i))  \n",
    "    else:\n",
    "      print(\"El numero {} impar\".format(i))  "
   ]
  },
  {
   "cell_type": "code",
   "execution_count": 19,
   "id": "911e65f2",
   "metadata": {},
   "outputs": [
    {
     "name": "stdout",
     "output_type": "stream",
     "text": [
      "El número 100.0 es divisible por 2 o 3\n",
      "El número 101.0 no es divisible por 2 o 3\n",
      "El número 102.0 es divisible por 2 o 3\n",
      "El número 103.0 no es divisible por 2 o 3\n",
      "El número 104.0 es divisible por 2 o 3\n",
      "El número 105.0 es divisible por 2 o 3\n",
      "El número 106.0 es divisible por 2 o 3\n",
      "El número 107.0 no es divisible por 2 o 3\n",
      "El número 108.0 es divisible por 2 o 3\n",
      "El número 109.0 no es divisible por 2 o 3\n",
      "El número 110.0 es divisible por 2 o 3\n",
      "El número 111.0 es divisible por 2 o 3\n",
      "El número 112.0 es divisible por 2 o 3\n",
      "El número 113.0 no es divisible por 2 o 3\n",
      "El número 114.0 es divisible por 2 o 3\n",
      "El número 115.0 no es divisible por 2 o 3\n",
      "El número 116.0 es divisible por 2 o 3\n",
      "El número 117.0 es divisible por 2 o 3\n",
      "El número 118.0 es divisible por 2 o 3\n",
      "El número 119.0 no es divisible por 2 o 3\n",
      "El número 120.0 es divisible por 2 o 3\n",
      "El número 121.0 no es divisible por 2 o 3\n",
      "El número 122.0 es divisible por 2 o 3\n",
      "El número 123.0 es divisible por 2 o 3\n",
      "El número 124.0 es divisible por 2 o 3\n",
      "El número 125.0 no es divisible por 2 o 3\n",
      "El número 126.0 es divisible por 2 o 3\n",
      "El número 127.0 no es divisible por 2 o 3\n",
      "El número 128.0 es divisible por 2 o 3\n",
      "El número 129.0 es divisible por 2 o 3\n",
      "El número 130.0 es divisible por 2 o 3\n",
      "El número 131.0 no es divisible por 2 o 3\n",
      "El número 132.0 es divisible por 2 o 3\n",
      "El número 133.0 no es divisible por 2 o 3\n",
      "El número 134.0 es divisible por 2 o 3\n",
      "El número 135.0 es divisible por 2 o 3\n",
      "El número 136.0 es divisible por 2 o 3\n",
      "El número 137.0 no es divisible por 2 o 3\n",
      "El número 138.0 es divisible por 2 o 3\n",
      "El número 139.0 no es divisible por 2 o 3\n",
      "El número 140.0 es divisible por 2 o 3\n",
      "El número 141.0 es divisible por 2 o 3\n",
      "El número 142.0 es divisible por 2 o 3\n",
      "El número 143.0 no es divisible por 2 o 3\n",
      "El número 144.0 es divisible por 2 o 3\n",
      "El número 145.0 no es divisible por 2 o 3\n",
      "El número 146.0 es divisible por 2 o 3\n",
      "El número 147.0 es divisible por 2 o 3\n",
      "El número 148.0 es divisible por 2 o 3\n",
      "El número 149.0 no es divisible por 2 o 3\n",
      "El número 150.0 es divisible por 2 o 3\n"
     ]
    }
   ],
   "source": [
    "for i in array_2:\n",
    "    if (i % 2 == 0) | (i % 3 == 0): \n",
    "        print(\"El número {} es divisible por 2 o 3\".format(i))\n",
    "    else:\n",
    "        print(\"El número {} no es divisible por 2 o 3\".format(i))"
   ]
  },
  {
   "cell_type": "code",
   "execution_count": 20,
   "id": "08c2e0b1",
   "metadata": {},
   "outputs": [
    {
     "name": "stdout",
     "output_type": "stream",
     "text": [
      "El número 100.0 no es divisible por 2 o 3\n",
      "El número 101.0 no es divisible por 2 o 3\n",
      "El número 102.0 es divisible por 2 o 3\n",
      "El número 103.0 no es divisible por 2 o 3\n",
      "El número 104.0 no es divisible por 2 o 3\n",
      "El número 105.0 no es divisible por 2 o 3\n",
      "El número 106.0 no es divisible por 2 o 3\n",
      "El número 107.0 no es divisible por 2 o 3\n",
      "El número 108.0 es divisible por 2 o 3\n",
      "El número 109.0 no es divisible por 2 o 3\n",
      "El número 110.0 no es divisible por 2 o 3\n",
      "El número 111.0 no es divisible por 2 o 3\n",
      "El número 112.0 no es divisible por 2 o 3\n",
      "El número 113.0 no es divisible por 2 o 3\n",
      "El número 114.0 es divisible por 2 o 3\n",
      "El número 115.0 no es divisible por 2 o 3\n",
      "El número 116.0 no es divisible por 2 o 3\n",
      "El número 117.0 no es divisible por 2 o 3\n",
      "El número 118.0 no es divisible por 2 o 3\n",
      "El número 119.0 no es divisible por 2 o 3\n",
      "El número 120.0 es divisible por 2 o 3\n",
      "El número 121.0 no es divisible por 2 o 3\n",
      "El número 122.0 no es divisible por 2 o 3\n",
      "El número 123.0 no es divisible por 2 o 3\n",
      "El número 124.0 no es divisible por 2 o 3\n",
      "El número 125.0 no es divisible por 2 o 3\n",
      "El número 126.0 es divisible por 2 o 3\n",
      "El número 127.0 no es divisible por 2 o 3\n",
      "El número 128.0 no es divisible por 2 o 3\n",
      "El número 129.0 no es divisible por 2 o 3\n",
      "El número 130.0 no es divisible por 2 o 3\n",
      "El número 131.0 no es divisible por 2 o 3\n",
      "El número 132.0 es divisible por 2 o 3\n",
      "El número 133.0 no es divisible por 2 o 3\n",
      "El número 134.0 no es divisible por 2 o 3\n",
      "El número 135.0 no es divisible por 2 o 3\n",
      "El número 136.0 no es divisible por 2 o 3\n",
      "El número 137.0 no es divisible por 2 o 3\n",
      "El número 138.0 es divisible por 2 o 3\n",
      "El número 139.0 no es divisible por 2 o 3\n",
      "El número 140.0 no es divisible por 2 o 3\n",
      "El número 141.0 no es divisible por 2 o 3\n",
      "El número 142.0 no es divisible por 2 o 3\n",
      "El número 143.0 no es divisible por 2 o 3\n",
      "El número 144.0 es divisible por 2 o 3\n",
      "El número 145.0 no es divisible por 2 o 3\n",
      "El número 146.0 no es divisible por 2 o 3\n",
      "El número 147.0 no es divisible por 2 o 3\n",
      "El número 148.0 no es divisible por 2 o 3\n",
      "El número 149.0 no es divisible por 2 o 3\n",
      "El número 150.0 es divisible por 2 o 3\n"
     ]
    }
   ],
   "source": [
    "for i in array_2:\n",
    "    if (i % 2 == 0) & (i % 3 == 0): \n",
    "        print(\"El número {} es divisible por 2 o 3\".format(i))\n",
    "    else:\n",
    "        print(\"El número {} no es divisible por 2 o 3\".format(i))"
   ]
  },
  {
   "cell_type": "code",
   "execution_count": 22,
   "id": "35c78f32",
   "metadata": {},
   "outputs": [
    {
     "name": "stdout",
     "output_type": "stream",
     "text": [
      "El número 100.0 no es divisible por 3 ni por 2\n",
      "El número 101.0 no es divisible por 3 ni por 2\n",
      "El número 102.0 no es divisible por 3 ni por 2\n",
      "El número 103.0 no es divisible por 3 ni por 2\n",
      "El número 104.0 no es divisible por 3 ni por 2\n",
      "El número 105.0 es divisible por 3 pero no por 2\n",
      "El número 106.0 no es divisible por 3 ni por 2\n",
      "El número 107.0 no es divisible por 3 ni por 2\n",
      "El número 108.0 no es divisible por 3 ni por 2\n",
      "El número 109.0 no es divisible por 3 ni por 2\n",
      "El número 110.0 no es divisible por 3 ni por 2\n",
      "El número 111.0 es divisible por 3 pero no por 2\n",
      "El número 112.0 no es divisible por 3 ni por 2\n",
      "El número 113.0 no es divisible por 3 ni por 2\n",
      "El número 114.0 no es divisible por 3 ni por 2\n",
      "El número 115.0 no es divisible por 3 ni por 2\n",
      "El número 116.0 no es divisible por 3 ni por 2\n",
      "El número 117.0 es divisible por 3 pero no por 2\n",
      "El número 118.0 no es divisible por 3 ni por 2\n",
      "El número 119.0 no es divisible por 3 ni por 2\n",
      "El número 120.0 no es divisible por 3 ni por 2\n",
      "El número 121.0 no es divisible por 3 ni por 2\n",
      "El número 122.0 no es divisible por 3 ni por 2\n",
      "El número 123.0 es divisible por 3 pero no por 2\n",
      "El número 124.0 no es divisible por 3 ni por 2\n",
      "El número 125.0 no es divisible por 3 ni por 2\n",
      "El número 126.0 no es divisible por 3 ni por 2\n",
      "El número 127.0 no es divisible por 3 ni por 2\n",
      "El número 128.0 no es divisible por 3 ni por 2\n",
      "El número 129.0 es divisible por 3 pero no por 2\n",
      "El número 130.0 no es divisible por 3 ni por 2\n",
      "El número 131.0 no es divisible por 3 ni por 2\n",
      "El número 132.0 no es divisible por 3 ni por 2\n",
      "El número 133.0 no es divisible por 3 ni por 2\n",
      "El número 134.0 no es divisible por 3 ni por 2\n",
      "El número 135.0 es divisible por 3 pero no por 2\n",
      "El número 136.0 no es divisible por 3 ni por 2\n",
      "El número 137.0 no es divisible por 3 ni por 2\n",
      "El número 138.0 no es divisible por 3 ni por 2\n",
      "El número 139.0 no es divisible por 3 ni por 2\n",
      "El número 140.0 no es divisible por 3 ni por 2\n",
      "El número 141.0 es divisible por 3 pero no por 2\n",
      "El número 142.0 no es divisible por 3 ni por 2\n",
      "El número 143.0 no es divisible por 3 ni por 2\n",
      "El número 144.0 no es divisible por 3 ni por 2\n",
      "El número 145.0 no es divisible por 3 ni por 2\n",
      "El número 146.0 no es divisible por 3 ni por 2\n",
      "El número 147.0 es divisible por 3 pero no por 2\n",
      "El número 148.0 no es divisible por 3 ni por 2\n",
      "El número 149.0 no es divisible por 3 ni por 2\n",
      "El número 150.0 no es divisible por 3 ni por 2\n"
     ]
    }
   ],
   "source": [
    "for i in array_2:\n",
    "    if (i % 3 == 0) & (i % 2 != 0): \n",
    "        print(\"El número {} es divisible por 3 pero no por 2\".format(i))\n",
    "    else:\n",
    "        print(\"El número {} no es divisible por 3 ni por 2\".format(i))"
   ]
  },
  {
   "cell_type": "code",
   "execution_count": 24,
   "id": "e300ded9",
   "metadata": {},
   "outputs": [
    {
     "name": "stdout",
     "output_type": "stream",
     "text": [
      "El número 100.0 es divisible por 2 y 3\n",
      "El número 101.0 no es divisible por 2 ni 3\n",
      "El número 102.0 es divisible por 2 y 3\n",
      "El número 103.0 no es divisible por 2 ni 3\n",
      "El número 104.0 es divisible por 2 y 3\n",
      "El número 105.0 es divisible por 2 y 3\n",
      "El número 106.0 es divisible por 2 y 3\n",
      "El número 107.0 no es divisible por 2 ni 3\n",
      "El número 108.0 es divisible por 2 y 3\n",
      "El número 109.0 no es divisible por 2 ni 3\n",
      "El número 110.0 es divisible por 2 y 3\n",
      "El número 111.0 es divisible por 2 y 3\n",
      "El número 112.0 es divisible por 2 y 3\n",
      "El número 113.0 no es divisible por 2 ni 3\n",
      "El número 114.0 es divisible por 2 y 3\n",
      "El número 115.0 no es divisible por 2 ni 3\n",
      "El número 116.0 es divisible por 2 y 3\n",
      "El número 117.0 es divisible por 2 y 3\n",
      "El número 118.0 es divisible por 2 y 3\n",
      "El número 119.0 no es divisible por 2 ni 3\n",
      "El número 120.0 es divisible por 2 y 3\n",
      "El número 121.0 no es divisible por 2 ni 3\n",
      "El número 122.0 es divisible por 2 y 3\n",
      "El número 123.0 es divisible por 2 y 3\n",
      "El número 124.0 es divisible por 2 y 3\n",
      "El número 125.0 no es divisible por 2 ni 3\n",
      "El número 126.0 es divisible por 2 y 3\n",
      "El número 127.0 no es divisible por 2 ni 3\n",
      "El número 128.0 es divisible por 2 y 3\n",
      "El número 129.0 es divisible por 2 y 3\n",
      "El número 130.0 es divisible por 2 y 3\n",
      "El número 131.0 no es divisible por 2 ni 3\n",
      "El número 132.0 es divisible por 2 y 3\n",
      "El número 133.0 no es divisible por 2 ni 3\n",
      "El número 134.0 es divisible por 2 y 3\n",
      "El número 135.0 es divisible por 2 y 3\n",
      "El número 136.0 es divisible por 2 y 3\n",
      "El número 137.0 no es divisible por 2 ni 3\n",
      "El número 138.0 es divisible por 2 y 3\n",
      "El número 139.0 no es divisible por 2 ni 3\n",
      "El número 140.0 es divisible por 2 y 3\n",
      "El número 141.0 es divisible por 2 y 3\n",
      "El número 142.0 es divisible por 2 y 3\n",
      "El número 143.0 no es divisible por 2 ni 3\n",
      "El número 144.0 es divisible por 2 y 3\n",
      "El número 145.0 no es divisible por 2 ni 3\n",
      "El número 146.0 es divisible por 2 y 3\n",
      "El número 147.0 es divisible por 2 y 3\n",
      "El número 148.0 es divisible por 2 y 3\n",
      "El número 149.0 no es divisible por 2 ni 3\n",
      "El número 150.0 es divisible por 2 y 3\n"
     ]
    }
   ],
   "source": [
    "for i in array_2:\n",
    "    if (i % 3 != 0) & (i % 2 != 0): \n",
    "        print(\"El número {} no es divisible por 2 ni 3\".format(i))\n",
    "    else:\n",
    "        print(\"El número {} es divisible por 2 o 3\".format(i))"
   ]
  },
  {
   "cell_type": "markdown",
   "id": "0affd1b1",
   "metadata": {},
   "source": [
    "# Desafio 4: Correccion de errores\n",
    "~~~~~\n",
    "for i in range(100):\n",
    "    print(I**2)\n",
    "\n",
    "NameError                                 Traceback (most recent call last)\n",
    "/var/folders/2t/0b9zct996pqd07yvqjz4g_f80000gn/T/ipykernel_1005/4213348250.py in <module>\n",
    "      1 for i in range(100):\n",
    "----> 2     print(I**2)\n",
    "\n",
    "NameError: name 'I' is not defined\n",
    "~~~~~\n",
    "\n",
    "El error se debe a que la variable 'I' no está definida. Para solucionar este problema se debe o definir la variable o se asume que lo que queria imprimir es la variable 'i'\n",
    "\n",
    "~~~~~\n",
    "for i in range(100):\n",
    "   print(I**2)\n",
    "~~~~~\n"
   ]
  },
  {
   "cell_type": "markdown",
   "id": "6f3a3f8b",
   "metadata": {},
   "source": [
    "# Desafio 5"
   ]
  },
  {
   "cell_type": "code",
   "execution_count": 24,
   "id": "9240640a",
   "metadata": {},
   "outputs": [
    {
     "data": {
      "text/plain": [
       "1    80\n",
       "0    64\n",
       "Name: underperforming, dtype: int64"
      ]
     },
     "execution_count": 24,
     "metadata": {},
     "output_type": "execute_result"
    }
   ],
   "source": [
    "import pandas as pd \n",
    "import numpy as np\n",
    "flights=pd.read_csv(\"flights.csv\")\n",
    "passengers_mean=np.mean(flights.passengers)\n",
    "flights['underperforming']=0\n",
    "for index, row in flights.iterrows():\n",
    "    if row.passengers <= passengers_mean:\n",
    "        flights.at[index,'underperforming']=1\n",
    "flights.underperforming.value_counts()"
   ]
  }
 ],
 "metadata": {
  "interpreter": {
   "hash": "72d69218b7fb2ce1663efa0b5e8f9de2bd757b21f6b239bd8d395fb92f34789b"
  },
  "kernelspec": {
   "display_name": "Python 3.8.10 64-bit ('ds': conda)",
   "language": "python",
   "name": "python3"
  },
  "language_info": {
   "codemirror_mode": {
    "name": "ipython",
    "version": 3
   },
   "file_extension": ".py",
   "mimetype": "text/x-python",
   "name": "python",
   "nbconvert_exporter": "python",
   "pygments_lexer": "ipython3",
   "version": "3.9.5"
  }
 },
 "nbformat": 4,
 "nbformat_minor": 5
}
