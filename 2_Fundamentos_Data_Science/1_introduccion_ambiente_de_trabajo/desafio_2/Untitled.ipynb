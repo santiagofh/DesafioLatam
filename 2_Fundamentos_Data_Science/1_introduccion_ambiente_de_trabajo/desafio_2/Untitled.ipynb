{
 "cells": [
  {
   "cell_type": "code",
   "execution_count": 1,
   "id": "3e29fb5d",
   "metadata": {},
   "outputs": [],
   "source": [
    "import numpy as np"
   ]
  },
  {
   "cell_type": "code",
   "execution_count": 6,
   "id": "c77868a6",
   "metadata": {},
   "outputs": [
    {
     "data": {
      "text/plain": [
       "array([ 1.,  2.,  3.,  4.,  5.,  6.,  7.,  8.,  9., 10., 11., 12., 13.,\n",
       "       14., 15., 16., 17., 18., 19., 20., 21., 22., 23., 24., 25., 26.,\n",
       "       27., 28., 29., 30., 31., 32., 33., 34., 35., 36., 37., 38., 39.,\n",
       "       40., 41., 42., 43., 44., 45., 46., 47., 48., 49., 50.])"
      ]
     },
     "execution_count": 6,
     "metadata": {},
     "output_type": "execute_result"
    }
   ],
   "source": [
    "array_1=np.linspace(1, 50)\n",
    "array_1"
   ]
  },
  {
   "cell_type": "code",
   "execution_count": 8,
   "id": "7039c695",
   "metadata": {},
   "outputs": [
    {
     "data": {
      "text/plain": [
       "array([100.        , 101.02040816, 102.04081633, 103.06122449,\n",
       "       104.08163265, 105.10204082, 106.12244898, 107.14285714,\n",
       "       108.16326531, 109.18367347, 110.20408163, 111.2244898 ,\n",
       "       112.24489796, 113.26530612, 114.28571429, 115.30612245,\n",
       "       116.32653061, 117.34693878, 118.36734694, 119.3877551 ,\n",
       "       120.40816327, 121.42857143, 122.44897959, 123.46938776,\n",
       "       124.48979592, 125.51020408, 126.53061224, 127.55102041,\n",
       "       128.57142857, 129.59183673, 130.6122449 , 131.63265306,\n",
       "       132.65306122, 133.67346939, 134.69387755, 135.71428571,\n",
       "       136.73469388, 137.75510204, 138.7755102 , 139.79591837,\n",
       "       140.81632653, 141.83673469, 142.85714286, 143.87755102,\n",
       "       144.89795918, 145.91836735, 146.93877551, 147.95918367,\n",
       "       148.97959184, 150.        ])"
      ]
     },
     "execution_count": 8,
     "metadata": {},
     "output_type": "execute_result"
    }
   ],
   "source": [
    "array_2=np.linspace(100, 150)\n",
    "array_2"
   ]
  },
  {
   "cell_type": "code",
   "execution_count": null,
   "id": "994d1232",
   "metadata": {},
   "outputs": [],
   "source": []
  }
 ],
 "metadata": {
  "kernelspec": {
   "display_name": "Python 3.8.10 64-bit ('ds': conda)",
   "language": "python",
   "name": "python3810jvsc74a57bd0057be6041a135c0c93257975b75dcc7a714228778415d7da6fb51f17628b0de5"
  },
  "language_info": {
   "codemirror_mode": {
    "name": "ipython",
    "version": 3
   },
   "file_extension": ".py",
   "mimetype": "text/x-python",
   "name": "python",
   "nbconvert_exporter": "python",
   "pygments_lexer": "ipython3",
   "version": "3.8.12"
  }
 },
 "nbformat": 4,
 "nbformat_minor": 5
}
