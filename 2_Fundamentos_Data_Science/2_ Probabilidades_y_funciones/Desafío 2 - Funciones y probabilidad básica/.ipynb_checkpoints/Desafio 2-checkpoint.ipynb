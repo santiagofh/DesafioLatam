{
 "cells": [
  {
   "cell_type": "markdown",
   "id": "3b5b5dce",
   "metadata": {},
   "source": [
    "# Desafío 1: Generación de funciones\n",
    "\n",
    "Genere funciones para calcular la media y varianza de un vector. Debe cumplir con los siguientes requisitos:\n",
    "- Ambas funciones deben ingresar un argumento ​x​ correspondiente al vector.\n",
    "- Las funciones deben contener con la documentación asociada a\n",
    "la variable y retornar un valor utilizando   .\n",
    " - La función de la varianza debe llamar a la función de la media"
   ]
  },
  {
   "cell_type": "code",
   "execution_count": 2,
   "id": "3218bbdd",
   "metadata": {},
   "outputs": [
    {
     "name": "stdout",
     "output_type": "stream",
     "text": [
      "La media del vector x es: 3.0\n"
     ]
    }
   ],
   "source": [
    "x=[1,2,3,4,5]\n",
    "def media(lista):\n",
    "    sum_i=0\n",
    "    for i in lista:\n",
    "        sum_i+=i\n",
    "        media=sum_i/len(lista)\n",
    "        \"\"\"Se realiza una suma de todos los elementos de la lista \n",
    "        y luego se procede a dividir por el largo de la lista\"\"\"\n",
    "    return media\n",
    "media_x=media(x)\n",
    "print(\"La media del vector x es: {}\".format(media_x) )"
   ]
  },
  {
   "cell_type": "code",
   "execution_count": 3,
   "id": "a3e9ff5e",
   "metadata": {},
   "outputs": [
    {
     "name": "stdout",
     "output_type": "stream",
     "text": [
      "La varianza del vector x es: 2.5\n"
     ]
    }
   ],
   "source": [
    "def varianza(lista):\n",
    "    media_lista=media(lista)\n",
    "    acum_2=0\n",
    "    for i in x:\n",
    "        acum_2+=(i-media_lista)**2\n",
    "    var=acum_2/(len(lista)-1)\n",
    "    \"\"\"Se realiza una diferencia entre el elemento de la lista y la media y esta se eleva al cuadrado\n",
    "    luego se suman todas las diferenias y se procede a dividir por el largo de la lista menos 1\"\"\"\n",
    "    return var\n",
    "varianza_x=varianza(x)\n",
    "print(\"La varianza del vector x es: {}\".format(varianza_x) )\n"
   ]
  },
  {
   "cell_type": "markdown",
   "id": "f7f12dfb",
   "metadata": {},
   "source": [
    "- Utilice las funciones para reportar la información sobre **goles_favor**, **goles_contra** y **puntos**"
   ]
  },
  {
   "cell_type": "code",
   "execution_count": 4,
   "id": "5104e92f",
   "metadata": {},
   "outputs": [
    {
     "data": {
      "text/html": [
       "<div>\n",
       "<style scoped>\n",
       "    .dataframe tbody tr th:only-of-type {\n",
       "        vertical-align: middle;\n",
       "    }\n",
       "\n",
       "    .dataframe tbody tr th {\n",
       "        vertical-align: top;\n",
       "    }\n",
       "\n",
       "    .dataframe thead th {\n",
       "        text-align: right;\n",
       "    }\n",
       "</style>\n",
       "<table border=\"1\" class=\"dataframe\">\n",
       "  <thead>\n",
       "    <tr style=\"text-align: right;\">\n",
       "      <th></th>\n",
       "      <th>team</th>\n",
       "      <th>continent</th>\n",
       "      <th>group</th>\n",
       "      <th>group_pos</th>\n",
       "      <th>cantidad_juegos</th>\n",
       "      <th>juegos_ganados</th>\n",
       "      <th>juegos_empatados</th>\n",
       "      <th>juegos_perdidos</th>\n",
       "      <th>goles_favor</th>\n",
       "      <th>goles_contra</th>\n",
       "      <th>goles_diferencia</th>\n",
       "      <th>puntos</th>\n",
       "      <th>clasificado</th>\n",
       "    </tr>\n",
       "  </thead>\n",
       "  <tbody>\n",
       "    <tr>\n",
       "      <th>0</th>\n",
       "      <td>Brazil</td>\n",
       "      <td>southamerica</td>\n",
       "      <td>A</td>\n",
       "      <td>1</td>\n",
       "      <td>3</td>\n",
       "      <td>2</td>\n",
       "      <td>1</td>\n",
       "      <td>0</td>\n",
       "      <td>7</td>\n",
       "      <td>2</td>\n",
       "      <td>5</td>\n",
       "      <td>7</td>\n",
       "      <td>1</td>\n",
       "    </tr>\n",
       "    <tr>\n",
       "      <th>1</th>\n",
       "      <td>Mexico</td>\n",
       "      <td>northamerica</td>\n",
       "      <td>A</td>\n",
       "      <td>2</td>\n",
       "      <td>3</td>\n",
       "      <td>2</td>\n",
       "      <td>1</td>\n",
       "      <td>0</td>\n",
       "      <td>4</td>\n",
       "      <td>1</td>\n",
       "      <td>3</td>\n",
       "      <td>7</td>\n",
       "      <td>1</td>\n",
       "    </tr>\n",
       "    <tr>\n",
       "      <th>2</th>\n",
       "      <td>Croatia</td>\n",
       "      <td>europe</td>\n",
       "      <td>A</td>\n",
       "      <td>3</td>\n",
       "      <td>3</td>\n",
       "      <td>1</td>\n",
       "      <td>0</td>\n",
       "      <td>2</td>\n",
       "      <td>6</td>\n",
       "      <td>6</td>\n",
       "      <td>0</td>\n",
       "      <td>3</td>\n",
       "      <td>0</td>\n",
       "    </tr>\n",
       "    <tr>\n",
       "      <th>3</th>\n",
       "      <td>Cameroon</td>\n",
       "      <td>africa</td>\n",
       "      <td>A</td>\n",
       "      <td>4</td>\n",
       "      <td>3</td>\n",
       "      <td>0</td>\n",
       "      <td>0</td>\n",
       "      <td>3</td>\n",
       "      <td>1</td>\n",
       "      <td>9</td>\n",
       "      <td>−8</td>\n",
       "      <td>0</td>\n",
       "      <td>0</td>\n",
       "    </tr>\n",
       "    <tr>\n",
       "      <th>4</th>\n",
       "      <td>Netherlands</td>\n",
       "      <td>europe</td>\n",
       "      <td>B</td>\n",
       "      <td>1</td>\n",
       "      <td>3</td>\n",
       "      <td>3</td>\n",
       "      <td>0</td>\n",
       "      <td>0</td>\n",
       "      <td>10</td>\n",
       "      <td>3</td>\n",
       "      <td>7</td>\n",
       "      <td>9</td>\n",
       "      <td>1</td>\n",
       "    </tr>\n",
       "  </tbody>\n",
       "</table>\n",
       "</div>"
      ],
      "text/plain": [
       "          team     continent group  group_pos  cantidad_juegos  \\\n",
       "0       Brazil  southamerica     A          1                3   \n",
       "1       Mexico  northamerica     A          2                3   \n",
       "2      Croatia        europe     A          3                3   \n",
       "3     Cameroon        africa     A          4                3   \n",
       "4  Netherlands        europe     B          1                3   \n",
       "\n",
       "   juegos_ganados  juegos_empatados  juegos_perdidos  goles_favor  \\\n",
       "0               2                 1                0            7   \n",
       "1               2                 1                0            4   \n",
       "2               1                 0                2            6   \n",
       "3               0                 0                3            1   \n",
       "4               3                 0                0           10   \n",
       "\n",
       "   goles_contra goles_diferencia  puntos  clasificado  \n",
       "0             2                5       7            1  \n",
       "1             1                3       7            1  \n",
       "2             6                0       3            0  \n",
       "3             9               −8       0            0  \n",
       "4             3                7       9            1  "
      ]
     },
     "execution_count": 4,
     "metadata": {},
     "output_type": "execute_result"
    }
   ],
   "source": [
    "import pandas as pd\n",
    "import numpy as np\n",
    "df=pd.read_csv(\"worldcup2014.csv\")\n",
    "df.head(5)"
   ]
  },
  {
   "cell_type": "code",
   "execution_count": 5,
   "id": "702923bd",
   "metadata": {},
   "outputs": [
    {
     "name": "stdout",
     "output_type": "stream",
     "text": [
      "La media de goles_favor es: 4.25\n",
      "La varianza de goles_favor es: 0.5745967741935484\n",
      "\n",
      "\n",
      "La media de goles_contra es: 4.25\n",
      "La varianza de goles_contra es: 0.5745967741935484\n",
      "\n",
      "\n",
      "La media de puntos es: 4.21875\n",
      "La varianza de puntos es: 0.5621534778225806\n",
      "\n",
      "\n"
     ]
    }
   ],
   "source": [
    "media_goles_favor=media(df.goles_favor)\n",
    "varianza_goles_favor=varianza(df.goles_favor)\n",
    "print(\"La media de goles_favor es: {}\".format(media_goles_favor))\n",
    "print(\"La varianza de goles_favor es: {}\".format(varianza_goles_favor))\n",
    "print(\"\\n\")\n",
    "media_goles_contra=media(df.goles_contra)\n",
    "varianza_goles_contra=varianza(df.goles_contra)\n",
    "print(\"La media de goles_contra es: {}\".format(media_goles_contra))\n",
    "print(\"La varianza de goles_contra es: {}\".format(varianza_goles_contra))\n",
    "print(\"\\n\")\n",
    "media_puntos=media(df.puntos)\n",
    "varianza_puntos=varianza(df.puntos)\n",
    "print(\"La media de puntos es: {}\".format(media_puntos))\n",
    "print(\"La varianza de puntos es: {}\".format(varianza_puntos))\n",
    "print(\"\\n\")"
   ]
  },
  {
   "cell_type": "markdown",
   "id": "e3346c65",
   "metadata": {},
   "source": [
    "# Desafio 2\n",
    "\n",
    "Utilizando el método **groupby** de la clase **DataFrame**, en conjunto con la función **.agg** de pandas, calcule la media, la varianza y desviación estándar de la cantidad de goles a favor, en contra y de la cantidad de puntos por continente."
   ]
  },
  {
   "cell_type": "code",
   "execution_count": 6,
   "id": "cdb7ec04",
   "metadata": {},
   "outputs": [
    {
     "data": {
      "text/html": [
       "<div>\n",
       "<style scoped>\n",
       "    .dataframe tbody tr th:only-of-type {\n",
       "        vertical-align: middle;\n",
       "    }\n",
       "\n",
       "    .dataframe tbody tr th {\n",
       "        vertical-align: top;\n",
       "    }\n",
       "\n",
       "    .dataframe thead th {\n",
       "        text-align: right;\n",
       "    }\n",
       "</style>\n",
       "<table border=\"1\" class=\"dataframe\">\n",
       "  <thead>\n",
       "    <tr style=\"text-align: right;\">\n",
       "      <th></th>\n",
       "      <th>group_pos</th>\n",
       "      <th>cantidad_juegos</th>\n",
       "      <th>juegos_ganados</th>\n",
       "      <th>juegos_empatados</th>\n",
       "      <th>juegos_perdidos</th>\n",
       "      <th>goles_favor</th>\n",
       "      <th>goles_contra</th>\n",
       "      <th>puntos</th>\n",
       "      <th>clasificado</th>\n",
       "    </tr>\n",
       "    <tr>\n",
       "      <th>continent</th>\n",
       "      <th></th>\n",
       "      <th></th>\n",
       "      <th></th>\n",
       "      <th></th>\n",
       "      <th></th>\n",
       "      <th></th>\n",
       "      <th></th>\n",
       "      <th></th>\n",
       "      <th></th>\n",
       "    </tr>\n",
       "  </thead>\n",
       "  <tbody>\n",
       "    <tr>\n",
       "      <th>africa</th>\n",
       "      <td>15</td>\n",
       "      <td>15</td>\n",
       "      <td>3</td>\n",
       "      <td>3</td>\n",
       "      <td>9</td>\n",
       "      <td>18</td>\n",
       "      <td>28</td>\n",
       "      <td>12</td>\n",
       "      <td>2</td>\n",
       "    </tr>\n",
       "    <tr>\n",
       "      <th>asia</th>\n",
       "      <td>16</td>\n",
       "      <td>12</td>\n",
       "      <td>0</td>\n",
       "      <td>3</td>\n",
       "      <td>9</td>\n",
       "      <td>9</td>\n",
       "      <td>25</td>\n",
       "      <td>3</td>\n",
       "      <td>0</td>\n",
       "    </tr>\n",
       "    <tr>\n",
       "      <th>europe</th>\n",
       "      <td>30</td>\n",
       "      <td>39</td>\n",
       "      <td>18</td>\n",
       "      <td>7</td>\n",
       "      <td>14</td>\n",
       "      <td>62</td>\n",
       "      <td>52</td>\n",
       "      <td>61</td>\n",
       "      <td>6</td>\n",
       "    </tr>\n",
       "    <tr>\n",
       "      <th>northamerica</th>\n",
       "      <td>9</td>\n",
       "      <td>12</td>\n",
       "      <td>5</td>\n",
       "      <td>3</td>\n",
       "      <td>4</td>\n",
       "      <td>13</td>\n",
       "      <td>14</td>\n",
       "      <td>18</td>\n",
       "      <td>3</td>\n",
       "    </tr>\n",
       "    <tr>\n",
       "      <th>southamerica</th>\n",
       "      <td>10</td>\n",
       "      <td>18</td>\n",
       "      <td>13</td>\n",
       "      <td>2</td>\n",
       "      <td>3</td>\n",
       "      <td>34</td>\n",
       "      <td>17</td>\n",
       "      <td>41</td>\n",
       "      <td>5</td>\n",
       "    </tr>\n",
       "  </tbody>\n",
       "</table>\n",
       "</div>"
      ],
      "text/plain": [
       "              group_pos  cantidad_juegos  juegos_ganados  juegos_empatados  \\\n",
       "continent                                                                    \n",
       "africa               15               15               3                 3   \n",
       "asia                 16               12               0                 3   \n",
       "europe               30               39              18                 7   \n",
       "northamerica          9               12               5                 3   \n",
       "southamerica         10               18              13                 2   \n",
       "\n",
       "              juegos_perdidos  goles_favor  goles_contra  puntos  clasificado  \n",
       "continent                                                                      \n",
       "africa                      9           18            28      12            2  \n",
       "asia                        9            9            25       3            0  \n",
       "europe                     14           62            52      61            6  \n",
       "northamerica                4           13            14      18            3  \n",
       "southamerica                3           34            17      41            5  "
      ]
     },
     "execution_count": 6,
     "metadata": {},
     "output_type": "execute_result"
    }
   ],
   "source": [
    "df.groupby(by=['continent']).sum()"
   ]
  },
  {
   "cell_type": "code",
   "execution_count": 7,
   "id": "b1ac70ef",
   "metadata": {},
   "outputs": [
    {
     "data": {
      "text/html": [
       "<div>\n",
       "<style scoped>\n",
       "    .dataframe tbody tr th:only-of-type {\n",
       "        vertical-align: middle;\n",
       "    }\n",
       "\n",
       "    .dataframe tbody tr th {\n",
       "        vertical-align: top;\n",
       "    }\n",
       "\n",
       "    .dataframe thead th {\n",
       "        text-align: right;\n",
       "    }\n",
       "</style>\n",
       "<table border=\"1\" class=\"dataframe\">\n",
       "  <thead>\n",
       "    <tr style=\"text-align: right;\">\n",
       "      <th></th>\n",
       "      <th>group_pos</th>\n",
       "      <th>cantidad_juegos</th>\n",
       "      <th>juegos_ganados</th>\n",
       "      <th>juegos_empatados</th>\n",
       "      <th>juegos_perdidos</th>\n",
       "      <th>goles_favor</th>\n",
       "      <th>goles_contra</th>\n",
       "      <th>puntos</th>\n",
       "      <th>clasificado</th>\n",
       "    </tr>\n",
       "    <tr>\n",
       "      <th>continent</th>\n",
       "      <th></th>\n",
       "      <th></th>\n",
       "      <th></th>\n",
       "      <th></th>\n",
       "      <th></th>\n",
       "      <th></th>\n",
       "      <th></th>\n",
       "      <th></th>\n",
       "      <th></th>\n",
       "    </tr>\n",
       "  </thead>\n",
       "  <tbody>\n",
       "    <tr>\n",
       "      <th>africa</th>\n",
       "      <td>3.000000</td>\n",
       "      <td>3.0</td>\n",
       "      <td>0.600000</td>\n",
       "      <td>0.600000</td>\n",
       "      <td>1.800000</td>\n",
       "      <td>3.600000</td>\n",
       "      <td>5.600000</td>\n",
       "      <td>2.400000</td>\n",
       "      <td>0.400000</td>\n",
       "    </tr>\n",
       "    <tr>\n",
       "      <th>asia</th>\n",
       "      <td>4.000000</td>\n",
       "      <td>3.0</td>\n",
       "      <td>0.000000</td>\n",
       "      <td>0.750000</td>\n",
       "      <td>2.250000</td>\n",
       "      <td>2.250000</td>\n",
       "      <td>6.250000</td>\n",
       "      <td>0.750000</td>\n",
       "      <td>0.000000</td>\n",
       "    </tr>\n",
       "    <tr>\n",
       "      <th>europe</th>\n",
       "      <td>2.307692</td>\n",
       "      <td>3.0</td>\n",
       "      <td>1.384615</td>\n",
       "      <td>0.538462</td>\n",
       "      <td>1.076923</td>\n",
       "      <td>4.769231</td>\n",
       "      <td>4.000000</td>\n",
       "      <td>4.692308</td>\n",
       "      <td>0.461538</td>\n",
       "    </tr>\n",
       "    <tr>\n",
       "      <th>northamerica</th>\n",
       "      <td>2.250000</td>\n",
       "      <td>3.0</td>\n",
       "      <td>1.250000</td>\n",
       "      <td>0.750000</td>\n",
       "      <td>1.000000</td>\n",
       "      <td>3.250000</td>\n",
       "      <td>3.500000</td>\n",
       "      <td>4.500000</td>\n",
       "      <td>0.750000</td>\n",
       "    </tr>\n",
       "    <tr>\n",
       "      <th>southamerica</th>\n",
       "      <td>1.666667</td>\n",
       "      <td>3.0</td>\n",
       "      <td>2.166667</td>\n",
       "      <td>0.333333</td>\n",
       "      <td>0.500000</td>\n",
       "      <td>5.666667</td>\n",
       "      <td>2.833333</td>\n",
       "      <td>6.833333</td>\n",
       "      <td>0.833333</td>\n",
       "    </tr>\n",
       "  </tbody>\n",
       "</table>\n",
       "</div>"
      ],
      "text/plain": [
       "              group_pos  cantidad_juegos  juegos_ganados  juegos_empatados  \\\n",
       "continent                                                                    \n",
       "africa         3.000000              3.0        0.600000          0.600000   \n",
       "asia           4.000000              3.0        0.000000          0.750000   \n",
       "europe         2.307692              3.0        1.384615          0.538462   \n",
       "northamerica   2.250000              3.0        1.250000          0.750000   \n",
       "southamerica   1.666667              3.0        2.166667          0.333333   \n",
       "\n",
       "              juegos_perdidos  goles_favor  goles_contra    puntos  \\\n",
       "continent                                                            \n",
       "africa               1.800000     3.600000      5.600000  2.400000   \n",
       "asia                 2.250000     2.250000      6.250000  0.750000   \n",
       "europe               1.076923     4.769231      4.000000  4.692308   \n",
       "northamerica         1.000000     3.250000      3.500000  4.500000   \n",
       "southamerica         0.500000     5.666667      2.833333  6.833333   \n",
       "\n",
       "              clasificado  \n",
       "continent                  \n",
       "africa           0.400000  \n",
       "asia             0.000000  \n",
       "europe           0.461538  \n",
       "northamerica     0.750000  \n",
       "southamerica     0.833333  "
      ]
     },
     "execution_count": 7,
     "metadata": {},
     "output_type": "execute_result"
    }
   ],
   "source": [
    "df.groupby(by=['continent']).agg('mean')"
   ]
  },
  {
   "cell_type": "code",
   "execution_count": 8,
   "id": "2a2ef537",
   "metadata": {},
   "outputs": [
    {
     "data": {
      "text/html": [
       "<div>\n",
       "<style scoped>\n",
       "    .dataframe tbody tr th:only-of-type {\n",
       "        vertical-align: middle;\n",
       "    }\n",
       "\n",
       "    .dataframe tbody tr th {\n",
       "        vertical-align: top;\n",
       "    }\n",
       "\n",
       "    .dataframe thead th {\n",
       "        text-align: right;\n",
       "    }\n",
       "</style>\n",
       "<table border=\"1\" class=\"dataframe\">\n",
       "  <thead>\n",
       "    <tr style=\"text-align: right;\">\n",
       "      <th></th>\n",
       "      <th>group_pos</th>\n",
       "      <th>cantidad_juegos</th>\n",
       "      <th>juegos_ganados</th>\n",
       "      <th>juegos_empatados</th>\n",
       "      <th>juegos_perdidos</th>\n",
       "      <th>goles_favor</th>\n",
       "      <th>goles_contra</th>\n",
       "      <th>puntos</th>\n",
       "      <th>clasificado</th>\n",
       "    </tr>\n",
       "    <tr>\n",
       "      <th>continent</th>\n",
       "      <th></th>\n",
       "      <th></th>\n",
       "      <th></th>\n",
       "      <th></th>\n",
       "      <th></th>\n",
       "      <th></th>\n",
       "      <th></th>\n",
       "      <th></th>\n",
       "      <th></th>\n",
       "    </tr>\n",
       "  </thead>\n",
       "  <tbody>\n",
       "    <tr>\n",
       "      <th>africa</th>\n",
       "      <td>1.000000</td>\n",
       "      <td>0.0</td>\n",
       "      <td>0.300000</td>\n",
       "      <td>0.300000</td>\n",
       "      <td>0.70000</td>\n",
       "      <td>3.300000</td>\n",
       "      <td>4.800000</td>\n",
       "      <td>3.300000</td>\n",
       "      <td>0.300000</td>\n",
       "    </tr>\n",
       "    <tr>\n",
       "      <th>asia</th>\n",
       "      <td>0.000000</td>\n",
       "      <td>0.0</td>\n",
       "      <td>0.000000</td>\n",
       "      <td>0.250000</td>\n",
       "      <td>0.25000</td>\n",
       "      <td>0.916667</td>\n",
       "      <td>4.250000</td>\n",
       "      <td>0.250000</td>\n",
       "      <td>0.000000</td>\n",
       "    </tr>\n",
       "    <tr>\n",
       "      <th>europe</th>\n",
       "      <td>1.064103</td>\n",
       "      <td>0.0</td>\n",
       "      <td>0.923077</td>\n",
       "      <td>0.435897</td>\n",
       "      <td>0.74359</td>\n",
       "      <td>6.858974</td>\n",
       "      <td>3.833333</td>\n",
       "      <td>6.897436</td>\n",
       "      <td>0.269231</td>\n",
       "    </tr>\n",
       "    <tr>\n",
       "      <th>northamerica</th>\n",
       "      <td>1.583333</td>\n",
       "      <td>0.0</td>\n",
       "      <td>0.916667</td>\n",
       "      <td>0.250000</td>\n",
       "      <td>2.00000</td>\n",
       "      <td>2.250000</td>\n",
       "      <td>11.000000</td>\n",
       "      <td>11.000000</td>\n",
       "      <td>0.250000</td>\n",
       "    </tr>\n",
       "    <tr>\n",
       "      <th>southamerica</th>\n",
       "      <td>0.666667</td>\n",
       "      <td>0.0</td>\n",
       "      <td>0.566667</td>\n",
       "      <td>0.266667</td>\n",
       "      <td>0.30000</td>\n",
       "      <td>4.666667</td>\n",
       "      <td>0.566667</td>\n",
       "      <td>3.766667</td>\n",
       "      <td>0.166667</td>\n",
       "    </tr>\n",
       "  </tbody>\n",
       "</table>\n",
       "</div>"
      ],
      "text/plain": [
       "              group_pos  cantidad_juegos  juegos_ganados  juegos_empatados  \\\n",
       "continent                                                                    \n",
       "africa         1.000000              0.0        0.300000          0.300000   \n",
       "asia           0.000000              0.0        0.000000          0.250000   \n",
       "europe         1.064103              0.0        0.923077          0.435897   \n",
       "northamerica   1.583333              0.0        0.916667          0.250000   \n",
       "southamerica   0.666667              0.0        0.566667          0.266667   \n",
       "\n",
       "              juegos_perdidos  goles_favor  goles_contra     puntos  \\\n",
       "continent                                                             \n",
       "africa                0.70000     3.300000      4.800000   3.300000   \n",
       "asia                  0.25000     0.916667      4.250000   0.250000   \n",
       "europe                0.74359     6.858974      3.833333   6.897436   \n",
       "northamerica          2.00000     2.250000     11.000000  11.000000   \n",
       "southamerica          0.30000     4.666667      0.566667   3.766667   \n",
       "\n",
       "              clasificado  \n",
       "continent                  \n",
       "africa           0.300000  \n",
       "asia             0.000000  \n",
       "europe           0.269231  \n",
       "northamerica     0.250000  \n",
       "southamerica     0.166667  "
      ]
     },
     "execution_count": 8,
     "metadata": {},
     "output_type": "execute_result"
    }
   ],
   "source": [
    "df.groupby(by=['continent']).agg('var')"
   ]
  },
  {
   "cell_type": "code",
   "execution_count": 9,
   "id": "14014083",
   "metadata": {},
   "outputs": [
    {
     "data": {
      "text/html": [
       "<div>\n",
       "<style scoped>\n",
       "    .dataframe tbody tr th:only-of-type {\n",
       "        vertical-align: middle;\n",
       "    }\n",
       "\n",
       "    .dataframe tbody tr th {\n",
       "        vertical-align: top;\n",
       "    }\n",
       "\n",
       "    .dataframe thead th {\n",
       "        text-align: right;\n",
       "    }\n",
       "</style>\n",
       "<table border=\"1\" class=\"dataframe\">\n",
       "  <thead>\n",
       "    <tr style=\"text-align: right;\">\n",
       "      <th></th>\n",
       "      <th>group_pos</th>\n",
       "      <th>cantidad_juegos</th>\n",
       "      <th>juegos_ganados</th>\n",
       "      <th>juegos_empatados</th>\n",
       "      <th>juegos_perdidos</th>\n",
       "      <th>goles_favor</th>\n",
       "      <th>goles_contra</th>\n",
       "      <th>puntos</th>\n",
       "      <th>clasificado</th>\n",
       "    </tr>\n",
       "    <tr>\n",
       "      <th>continent</th>\n",
       "      <th></th>\n",
       "      <th></th>\n",
       "      <th></th>\n",
       "      <th></th>\n",
       "      <th></th>\n",
       "      <th></th>\n",
       "      <th></th>\n",
       "      <th></th>\n",
       "      <th></th>\n",
       "    </tr>\n",
       "  </thead>\n",
       "  <tbody>\n",
       "    <tr>\n",
       "      <th>africa</th>\n",
       "      <td>1.000000</td>\n",
       "      <td>0.0</td>\n",
       "      <td>0.547723</td>\n",
       "      <td>0.547723</td>\n",
       "      <td>0.836660</td>\n",
       "      <td>1.816590</td>\n",
       "      <td>2.190890</td>\n",
       "      <td>1.816590</td>\n",
       "      <td>0.547723</td>\n",
       "    </tr>\n",
       "    <tr>\n",
       "      <th>asia</th>\n",
       "      <td>0.000000</td>\n",
       "      <td>0.0</td>\n",
       "      <td>0.000000</td>\n",
       "      <td>0.500000</td>\n",
       "      <td>0.500000</td>\n",
       "      <td>0.957427</td>\n",
       "      <td>2.061553</td>\n",
       "      <td>0.500000</td>\n",
       "      <td>0.000000</td>\n",
       "    </tr>\n",
       "    <tr>\n",
       "      <th>europe</th>\n",
       "      <td>1.031553</td>\n",
       "      <td>0.0</td>\n",
       "      <td>0.960769</td>\n",
       "      <td>0.660225</td>\n",
       "      <td>0.862316</td>\n",
       "      <td>2.618964</td>\n",
       "      <td>1.957890</td>\n",
       "      <td>2.626297</td>\n",
       "      <td>0.518875</td>\n",
       "    </tr>\n",
       "    <tr>\n",
       "      <th>northamerica</th>\n",
       "      <td>1.258306</td>\n",
       "      <td>0.0</td>\n",
       "      <td>0.957427</td>\n",
       "      <td>0.500000</td>\n",
       "      <td>1.414214</td>\n",
       "      <td>1.500000</td>\n",
       "      <td>3.316625</td>\n",
       "      <td>3.316625</td>\n",
       "      <td>0.500000</td>\n",
       "    </tr>\n",
       "    <tr>\n",
       "      <th>southamerica</th>\n",
       "      <td>0.816497</td>\n",
       "      <td>0.0</td>\n",
       "      <td>0.752773</td>\n",
       "      <td>0.516398</td>\n",
       "      <td>0.547723</td>\n",
       "      <td>2.160247</td>\n",
       "      <td>0.752773</td>\n",
       "      <td>1.940790</td>\n",
       "      <td>0.408248</td>\n",
       "    </tr>\n",
       "  </tbody>\n",
       "</table>\n",
       "</div>"
      ],
      "text/plain": [
       "              group_pos  cantidad_juegos  juegos_ganados  juegos_empatados  \\\n",
       "continent                                                                    \n",
       "africa         1.000000              0.0        0.547723          0.547723   \n",
       "asia           0.000000              0.0        0.000000          0.500000   \n",
       "europe         1.031553              0.0        0.960769          0.660225   \n",
       "northamerica   1.258306              0.0        0.957427          0.500000   \n",
       "southamerica   0.816497              0.0        0.752773          0.516398   \n",
       "\n",
       "              juegos_perdidos  goles_favor  goles_contra    puntos  \\\n",
       "continent                                                            \n",
       "africa               0.836660     1.816590      2.190890  1.816590   \n",
       "asia                 0.500000     0.957427      2.061553  0.500000   \n",
       "europe               0.862316     2.618964      1.957890  2.626297   \n",
       "northamerica         1.414214     1.500000      3.316625  3.316625   \n",
       "southamerica         0.547723     2.160247      0.752773  1.940790   \n",
       "\n",
       "              clasificado  \n",
       "continent                  \n",
       "africa           0.547723  \n",
       "asia             0.000000  \n",
       "europe           0.518875  \n",
       "northamerica     0.500000  \n",
       "southamerica     0.408248  "
      ]
     },
     "execution_count": 9,
     "metadata": {},
     "output_type": "execute_result"
    }
   ],
   "source": [
    "df.groupby(by=['continent']).agg('std')"
   ]
  },
  {
   "cell_type": "markdown",
   "id": "a32e215d",
   "metadata": {},
   "source": [
    "- ¿En qué continente se observa una mayor cantidad de goles a favor?\n",
    "\n",
    "R: El continente con la mayor cantidad de goles a favor es europe. Por otra parte, en promedio el continente que se observa una mayor cantidad de goles a favor es: southamerica. \n",
    "\n",
    "- ¿En qué continente se observa una mayor cantidad de goles en contra?\n",
    "\n",
    "R: El continente con la mayor cantidad de goles en contra es europe. Por otra parte, en promedio el continente que se observa una mayor cantidad de goles en contra es: asia\n",
    "\n",
    "- ¿En qué continente se observa una mayor cantidad de puntos en promedio?\n",
    "\n",
    "R: El continente que se observa una mayor cantidad de puntos en promedio es: southamerica"
   ]
  },
  {
   "cell_type": "markdown",
   "id": "0e821c5b",
   "metadata": {},
   "source": [
    "# Desafío 3: Simulaciones"
   ]
  },
  {
   "cell_type": "markdown",
   "id": "fc66adb0",
   "metadata": {},
   "source": [
    "Genere una función ​generate_pet que devuelva de forma aleatoria un string 'perro'​ o ​'gato'​ ​un ​número n​ ​ de veces. Ejecútela un par de veces.\n",
    "- Tip: Puede utilizar la función ​np.random.choice para retornar elementos al azar.\n"
   ]
  },
  {
   "cell_type": "code",
   "execution_count": 10,
   "id": "c9cd47d1",
   "metadata": {},
   "outputs": [
    {
     "data": {
      "text/plain": [
       "array(['perro', 'gato', 'gato', 'perro', 'gato'], dtype='<U5')"
      ]
     },
     "execution_count": 10,
     "metadata": {},
     "output_type": "execute_result"
    }
   ],
   "source": [
    "def generate_pet(lista_pet,n):\n",
    "    a=np.random.choice(lista_pet, n)\n",
    "    return a\n",
    "lista = ['perro', 'gato']\n",
    "n=5\n",
    "pets=generate_pet(lista,n)\n",
    "pets"
   ]
  },
  {
   "cell_type": "markdown",
   "id": "b3fa15b1",
   "metadata": {},
   "source": [
    "- Aplique la función ​generate_pet​ para generar 20 muestras."
   ]
  },
  {
   "cell_type": "code",
   "execution_count": 11,
   "id": "4e18c4fe",
   "metadata": {},
   "outputs": [
    {
     "name": "stdout",
     "output_type": "stream",
     "text": [
      "['gato' 'perro' 'perro' 'gato' 'gato' 'gato' 'perro' 'perro' 'perro'\n",
      " 'perro' 'gato' 'gato' 'perro' 'gato' 'perro' 'perro' 'gato' 'gato'\n",
      " 'perro' 'gato']\n"
     ]
    }
   ],
   "source": [
    "lista = ['perro', 'gato']\n",
    "n=20\n",
    "pets=generate_pet(lista,n)\n",
    "print(pets)\n"
   ]
  },
  {
   "cell_type": "markdown",
   "id": "fd52dbed",
   "metadata": {},
   "source": [
    "- ¿Cuál es la probabilidad de elegir un perro al azar? ¿Y un gato?\n"
   ]
  },
  {
   "cell_type": "code",
   "execution_count": 12,
   "id": "00e68438",
   "metadata": {},
   "outputs": [
    {
     "name": "stdout",
     "output_type": "stream",
     "text": [
      "En relacion al arreglo entregado anteriormente la probabilidad de elegir un perro al azar es de un 0.5 y la probabilidad de elegir un gato al azar es de un 0.5.\n"
     ]
    }
   ],
   "source": [
    "def perro(i):\n",
    "    return i=='perro'\n",
    "def gato(i):\n",
    "    return i=='gato'\n",
    "n_perro = len([ i for i in pets if i=='perro'])\n",
    "n_gato = len([ i for i in pets if i=='gato'])\n",
    "prob_perro=n_perro/n\n",
    "prob_gato=n_gato/n\n",
    "print(\"En relacion al arreglo entregado anteriormente la probabilidad de elegir un perro al azar es de un {} y la probabilidad de elegir un gato al azar es de un {}.\".format(prob_perro,prob_gato))"
   ]
  },
  {
   "cell_type": "markdown",
   "id": "4a9bf5b0",
   "metadata": {},
   "source": [
    "- Agregue np.random.seed(2) al inicio del chunk. ¿Qué diferencia hay cuando se ejecuta la función varias veces luego de fijar la semilla"
   ]
  },
  {
   "cell_type": "code",
   "execution_count": 13,
   "id": "9948aee2",
   "metadata": {},
   "outputs": [
    {
     "name": "stdout",
     "output_type": "stream",
     "text": [
      "['perro' 'gato' 'gato' 'perro' 'perro' 'gato' 'perro' 'gato' 'perro'\n",
      " 'gato' 'perro' 'gato' 'gato' 'gato' 'gato' 'gato' 'gato' 'gato' 'perro'\n",
      " 'perro']\n"
     ]
    }
   ],
   "source": [
    "np.random.seed(2)\n",
    "lista = ['perro', 'gato']\n",
    "n=20\n",
    "pets=generate_pet(lista,n)\n",
    "print(pets)"
   ]
  },
  {
   "cell_type": "markdown",
   "id": "6dbbd783",
   "metadata": {},
   "source": [
    "Cuando uno agrega una semilla a un proceso de ramdomizacion fija el resultado"
   ]
  },
  {
   "cell_type": "markdown",
   "id": "d1824433",
   "metadata": {},
   "source": [
    "# Desafío 4: Función simuladora\n",
    "- Genere una función llamada simulate_pets_prob que tome como argumento un número finito de simulaciones a generar.\n",
    "- La función debe simular dos situaciones young_pet y old_pet, y contar la ocurrencia de los siguientes casos:\n",
    " - De las dos mascotas simuladas (young y old), contar las ocasiones donde por lo menos una de las mascotas sea un perro.\n",
    " - De las dos mascotas simuladas, contar las ocasiones donde old_pet sea un perro.\n",
    " - De las dos mascotas simuladas, contar las ocasiones donde los dos sean perros.\n",
    "- El método debe tener una semilla pseudoaleatoria de 1.\n",
    "- El output de la función debe entregarse en términos de Probabilidad.\n",
    "- De los tres escenarios, ¿Cuál es el menos probable? ¿Cuál es el más probable? ¿Por qué?"
   ]
  },
  {
   "cell_type": "code",
   "execution_count": 50,
   "id": "eea952e6",
   "metadata": {},
   "outputs": [],
   "source": [
    "def simulate_pets_prob(n_simulaciones):\n",
    "    np.random.seed(1)\n",
    "    ls_pet=[]\n",
    "    for i in range(0,n_simulaciones):\n",
    "        pets=tuple(generate_pet(lista,2))\n",
    "        ls_pet.append(pets)\n",
    "    un_perro=0\n",
    "    for i in ls_pet:\n",
    "        if (i[0] == 'perro') or (i[1] == 'perro'):\n",
    "            un_perro+=1\n",
    "    prob_un_perro=(un_perro/n_simulaciones)\n",
    "    old_pet_perro=0\n",
    "    for i in ls_pet:\n",
    "        if (i[1] == 'perro'):\n",
    "            old_pet_perro+=1\n",
    "    prob_old_pet_perro=(old_pet_perro/n_simulaciones)\n",
    "    dos_perros=0\n",
    "    for i in ls_pet:\n",
    "        if (i[0] == 'perro') and (i[1] == 'perro'):\n",
    "            dos_perros+=1\n",
    "    prob_dos_perros=(dos_perros/n_simulaciones)\n",
    "    return prob_un_perro, prob_old_pet_perro, prob_dos_perros"
   ]
  },
  {
   "cell_type": "code",
   "execution_count": 51,
   "id": "e04e237d",
   "metadata": {},
   "outputs": [
    {
     "data": {
      "text/plain": [
       "(0.7, 0.4, 0.2)"
      ]
     },
     "execution_count": 51,
     "metadata": {},
     "output_type": "execute_result"
    }
   ],
   "source": [
    "simulate_pets_prob(10)"
   ]
  },
  {
   "cell_type": "markdown",
   "id": "509559b6",
   "metadata": {},
   "source": [
    "Las probabilidades retornadas de la funcion se interprentan de la siguiente forma:\n",
    "- La probabilidad de que por lo menos una de las mascotas sea un perro es de un:"
   ]
  },
  {
   "cell_type": "code",
   "execution_count": 60,
   "id": "599d1ead",
   "metadata": {},
   "outputs": [
    {
     "data": {
      "text/plain": [
       "0.7"
      ]
     },
     "execution_count": 60,
     "metadata": {},
     "output_type": "execute_result"
    }
   ],
   "source": [
    "simulate_pets_prob(10)[0]"
   ]
  },
  {
   "cell_type": "markdown",
   "id": "d8149901",
   "metadata": {},
   "source": [
    "- La probabilidad de que old_pet sea un perro:"
   ]
  },
  {
   "cell_type": "code",
   "execution_count": 56,
   "id": "33a692a1",
   "metadata": {},
   "outputs": [
    {
     "data": {
      "text/plain": [
       "0.4"
      ]
     },
     "execution_count": 56,
     "metadata": {},
     "output_type": "execute_result"
    }
   ],
   "source": [
    "simulate_pets_prob(10)[1]"
   ]
  },
  {
   "cell_type": "markdown",
   "id": "cb6593c0",
   "metadata": {},
   "source": [
    "- La probabilidad de que los dos sean perros"
   ]
  },
  {
   "cell_type": "code",
   "execution_count": 61,
   "id": "7b035ad5",
   "metadata": {},
   "outputs": [
    {
     "data": {
      "text/plain": [
       "0.2"
      ]
     },
     "execution_count": 61,
     "metadata": {},
     "output_type": "execute_result"
    }
   ],
   "source": [
    "simulate_pets_prob(10)[2]"
   ]
  },
  {
   "cell_type": "markdown",
   "id": "cdb610da",
   "metadata": {},
   "source": [
    "- De los tres escenarios, ¿Cuál es el menos probable? ¿Cuál es el más probable? ¿Por qué?\n",
    "\n",
    " - De los tres escenarios, el menos probable es el de que los dos (old y young) sean perros, y esto es debido a que existe une **intersección** entre la probabilidad de que el primero sea perro y ademas que el segundo sea perro. Esto se ve claramente en la función cuando se utiliza un AND\n",
    "\n",
    " - De los tres escenarios, el mas probable es el de que por lo menos una de las mascotas sea perro, y esto es devido a que existen 2 condiciones independientes entre young y old y no esta condicionada por la otra. Esto se ve claramente en la función cuando se utiliza un OR"
   ]
  },
  {
   "cell_type": "code",
   "execution_count": null,
   "id": "d14f8cea",
   "metadata": {},
   "outputs": [],
   "source": []
  }
 ],
 "metadata": {
  "kernelspec": {
   "display_name": "Python 3.8.10 64-bit ('ds': conda)",
   "language": "python",
   "name": "python3810jvsc74a57bd0057be6041a135c0c93257975b75dcc7a714228778415d7da6fb51f17628b0de5"
  },
  "language_info": {
   "codemirror_mode": {
    "name": "ipython",
    "version": 3
   },
   "file_extension": ".py",
   "mimetype": "text/x-python",
   "name": "python",
   "nbconvert_exporter": "python",
   "pygments_lexer": "ipython3",
   "version": "3.8.12"
  }
 },
 "nbformat": 4,
 "nbformat_minor": 5
}
