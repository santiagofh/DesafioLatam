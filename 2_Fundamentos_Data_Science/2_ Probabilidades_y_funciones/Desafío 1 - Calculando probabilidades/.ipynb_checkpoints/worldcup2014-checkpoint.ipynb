{
 "cells": [
  {
   "cell_type": "markdown",
   "id": "ff2ea392",
   "metadata": {},
   "source": [
    "# Desafio World Cup 2014\n",
    "\n",
    "## Desafio 1"
   ]
  },
  {
   "cell_type": "code",
   "execution_count": 41,
   "id": "833dae70",
   "metadata": {},
   "outputs": [
    {
     "data": {
      "text/html": [
       "<div>\n",
       "<style scoped>\n",
       "    .dataframe tbody tr th:only-of-type {\n",
       "        vertical-align: middle;\n",
       "    }\n",
       "\n",
       "    .dataframe tbody tr th {\n",
       "        vertical-align: top;\n",
       "    }\n",
       "\n",
       "    .dataframe thead th {\n",
       "        text-align: right;\n",
       "    }\n",
       "</style>\n",
       "<table border=\"1\" class=\"dataframe\">\n",
       "  <thead>\n",
       "    <tr style=\"text-align: right;\">\n",
       "      <th></th>\n",
       "      <th>team</th>\n",
       "      <th>continent</th>\n",
       "      <th>group</th>\n",
       "      <th>group_pos</th>\n",
       "      <th>cantidad_juegos</th>\n",
       "      <th>juegos_ganados</th>\n",
       "      <th>juegos_empatados</th>\n",
       "      <th>juegos_perdidos</th>\n",
       "      <th>goles_favor</th>\n",
       "      <th>goles_contra</th>\n",
       "      <th>goles_diferencia</th>\n",
       "      <th>puntos</th>\n",
       "      <th>clasificado</th>\n",
       "    </tr>\n",
       "  </thead>\n",
       "  <tbody>\n",
       "    <tr>\n",
       "      <th>0</th>\n",
       "      <td>Brazil</td>\n",
       "      <td>southamerica</td>\n",
       "      <td>A</td>\n",
       "      <td>1</td>\n",
       "      <td>3</td>\n",
       "      <td>2</td>\n",
       "      <td>1</td>\n",
       "      <td>0</td>\n",
       "      <td>7</td>\n",
       "      <td>2</td>\n",
       "      <td>5</td>\n",
       "      <td>7</td>\n",
       "      <td>1</td>\n",
       "    </tr>\n",
       "    <tr>\n",
       "      <th>1</th>\n",
       "      <td>Mexico</td>\n",
       "      <td>northamerica</td>\n",
       "      <td>A</td>\n",
       "      <td>2</td>\n",
       "      <td>3</td>\n",
       "      <td>2</td>\n",
       "      <td>1</td>\n",
       "      <td>0</td>\n",
       "      <td>4</td>\n",
       "      <td>1</td>\n",
       "      <td>3</td>\n",
       "      <td>7</td>\n",
       "      <td>1</td>\n",
       "    </tr>\n",
       "    <tr>\n",
       "      <th>2</th>\n",
       "      <td>Croatia</td>\n",
       "      <td>europe</td>\n",
       "      <td>A</td>\n",
       "      <td>3</td>\n",
       "      <td>3</td>\n",
       "      <td>1</td>\n",
       "      <td>0</td>\n",
       "      <td>2</td>\n",
       "      <td>6</td>\n",
       "      <td>6</td>\n",
       "      <td>0</td>\n",
       "      <td>3</td>\n",
       "      <td>0</td>\n",
       "    </tr>\n",
       "    <tr>\n",
       "      <th>3</th>\n",
       "      <td>Cameroon</td>\n",
       "      <td>africa</td>\n",
       "      <td>A</td>\n",
       "      <td>4</td>\n",
       "      <td>3</td>\n",
       "      <td>0</td>\n",
       "      <td>0</td>\n",
       "      <td>3</td>\n",
       "      <td>1</td>\n",
       "      <td>9</td>\n",
       "      <td>−8</td>\n",
       "      <td>0</td>\n",
       "      <td>0</td>\n",
       "    </tr>\n",
       "    <tr>\n",
       "      <th>4</th>\n",
       "      <td>Netherlands</td>\n",
       "      <td>europe</td>\n",
       "      <td>B</td>\n",
       "      <td>1</td>\n",
       "      <td>3</td>\n",
       "      <td>3</td>\n",
       "      <td>0</td>\n",
       "      <td>0</td>\n",
       "      <td>10</td>\n",
       "      <td>3</td>\n",
       "      <td>7</td>\n",
       "      <td>9</td>\n",
       "      <td>1</td>\n",
       "    </tr>\n",
       "  </tbody>\n",
       "</table>\n",
       "</div>"
      ],
      "text/plain": [
       "          team     continent group  group_pos  cantidad_juegos  \\\n",
       "0       Brazil  southamerica     A          1                3   \n",
       "1       Mexico  northamerica     A          2                3   \n",
       "2      Croatia        europe     A          3                3   \n",
       "3     Cameroon        africa     A          4                3   \n",
       "4  Netherlands        europe     B          1                3   \n",
       "\n",
       "   juegos_ganados  juegos_empatados  juegos_perdidos  goles_favor  \\\n",
       "0               2                 1                0            7   \n",
       "1               2                 1                0            4   \n",
       "2               1                 0                2            6   \n",
       "3               0                 0                3            1   \n",
       "4               3                 0                0           10   \n",
       "\n",
       "   goles_contra goles_diferencia  puntos  clasificado  \n",
       "0             2                5       7            1  \n",
       "1             1                3       7            1  \n",
       "2             6                0       3            0  \n",
       "3             9               −8       0            0  \n",
       "4             3                7       9            1  "
      ]
     },
     "execution_count": 41,
     "metadata": {},
     "output_type": "execute_result"
    }
   ],
   "source": [
    "import pandas as pd\n",
    "import numpy as np\n",
    "df=pd.read_csv(\"worldcup2014.csv\")\n",
    "df.head(5)"
   ]
  },
  {
   "cell_type": "markdown",
   "id": "92b6cf54",
   "metadata": {},
   "source": [
    "## Desafio 2"
   ]
  },
  {
   "cell_type": "code",
   "execution_count": 42,
   "id": "9560a797",
   "metadata": {},
   "outputs": [
    {
     "data": {
      "text/plain": [
       "europe          13\n",
       "southamerica     6\n",
       "africa           5\n",
       "northamerica     4\n",
       "asia             4\n",
       "Name: continent, dtype: int64"
      ]
     },
     "execution_count": 42,
     "metadata": {},
     "output_type": "execute_result"
    }
   ],
   "source": [
    "df.continent.value_counts()"
   ]
  },
  {
   "cell_type": "code",
   "execution_count": 43,
   "id": "7ee66695",
   "metadata": {},
   "outputs": [
    {
     "data": {
      "text/plain": [
       "europe          0.40625\n",
       "southamerica    0.18750\n",
       "africa          0.15625\n",
       "northamerica    0.12500\n",
       "asia            0.12500\n",
       "Name: continent, dtype: float64"
      ]
     },
     "execution_count": 43,
     "metadata": {},
     "output_type": "execute_result"
    }
   ],
   "source": [
    "df.continent.value_counts('%')"
   ]
  },
  {
   "cell_type": "markdown",
   "id": "92a1c704",
   "metadata": {},
   "source": [
    "### ¿Cuál es el continente con una mayor presencia en la muestra?\n",
    "Europe\n",
    "### ¿Cuál es la probabilidad de elegir un equipo asiático al azar?\n",
    "12,5%\n",
    "### ¿Cuál es la probabilidad de elegir un equipo africano al azar?\n",
    "15.625%"
   ]
  },
  {
   "cell_type": "markdown",
   "id": "b6e38694",
   "metadata": {},
   "source": [
    "## Desafio 3"
   ]
  },
  {
   "cell_type": "code",
   "execution_count": 140,
   "id": "831fa449",
   "metadata": {},
   "outputs": [],
   "source": [
    "df_europe=df.loc[df.continent=='europe']\n",
    "df_southamerica=df.loc[df.continent=='southamerica']\n",
    "df_africa=df.loc[df.continent=='africa']\n",
    "df_northamerica=df.loc[df.continent=='northamerica']\n",
    "df_asia=df.loc[df.continent=='asia']"
   ]
  },
  {
   "cell_type": "code",
   "execution_count": 145,
   "id": "d65315ce",
   "metadata": {},
   "outputs": [
    {
     "data": {
      "text/plain": [
       "0    0.538462\n",
       "1    0.461538\n",
       "Name: clasificado, dtype: float64"
      ]
     },
     "execution_count": 145,
     "metadata": {},
     "output_type": "execute_result"
    }
   ],
   "source": [
    "df_europe.clasificado.value_counts('%')"
   ]
  },
  {
   "cell_type": "code",
   "execution_count": 146,
   "id": "2c3210a8",
   "metadata": {},
   "outputs": [
    {
     "data": {
      "text/plain": [
       "1    0.833333\n",
       "0    0.166667\n",
       "Name: clasificado, dtype: float64"
      ]
     },
     "execution_count": 146,
     "metadata": {},
     "output_type": "execute_result"
    }
   ],
   "source": [
    "df_southamerica.clasificado.value_counts('%')"
   ]
  },
  {
   "cell_type": "code",
   "execution_count": 147,
   "id": "ee66d771",
   "metadata": {
    "scrolled": true
   },
   "outputs": [
    {
     "data": {
      "text/plain": [
       "0    0.6\n",
       "1    0.4\n",
       "Name: clasificado, dtype: float64"
      ]
     },
     "execution_count": 147,
     "metadata": {},
     "output_type": "execute_result"
    }
   ],
   "source": [
    "df_africa.clasificado.value_counts('%')"
   ]
  },
  {
   "cell_type": "code",
   "execution_count": 148,
   "id": "0ef17eda",
   "metadata": {},
   "outputs": [
    {
     "data": {
      "text/plain": [
       "1    0.75\n",
       "0    0.25\n",
       "Name: clasificado, dtype: float64"
      ]
     },
     "execution_count": 148,
     "metadata": {},
     "output_type": "execute_result"
    }
   ],
   "source": [
    "df_northamerica.clasificado.value_counts('%')"
   ]
  },
  {
   "cell_type": "code",
   "execution_count": 149,
   "id": "e0de7d24",
   "metadata": {},
   "outputs": [
    {
     "data": {
      "text/plain": [
       "0    1.0\n",
       "Name: clasificado, dtype: float64"
      ]
     },
     "execution_count": 149,
     "metadata": {},
     "output_type": "execute_result"
    }
   ],
   "source": [
    "df_asia.clasificado.value_counts('%')"
   ]
  },
  {
   "cell_type": "markdown",
   "id": "379f4d37",
   "metadata": {},
   "source": [
    "### ¿Cuál es la probabilidad de que un país asiático pase a la siguiente ronda?\n",
    "La probabilidad de que un país asiatico pase a la siguente ronda es de un 0%"
   ]
  },
  {
   "cell_type": "markdown",
   "id": "0d18f60f",
   "metadata": {},
   "source": [
    "### ¿Cuáles son los dos continentes con la mayor probabilidad de clasificar?\n",
    "Los continentes con mayor probabilidad de clasificar son:\n",
    "- df_southamerica con un 83.3%\n",
    "- df_northamerica con un 75%\n"
   ]
  },
  {
   "cell_type": "markdown",
   "id": "7a385e5a",
   "metadata": {},
   "source": [
    "### ¿Cuál es la probabilidad de que un país europeo no clasifique?\n",
    "La probabilidad de que un país europeo no clasifique es de un 53,8462%"
   ]
  },
  {
   "cell_type": "markdown",
   "id": "46d2d0f7",
   "metadata": {},
   "source": [
    "## Desafío 5: Probabilidades de Victoria y Derrota"
   ]
  },
  {
   "cell_type": "code",
   "execution_count": 10,
   "id": "b0c36683",
   "metadata": {},
   "outputs": [
    {
     "data": {
      "text/html": [
       "<div>\n",
       "<style scoped>\n",
       "    .dataframe tbody tr th:only-of-type {\n",
       "        vertical-align: middle;\n",
       "    }\n",
       "\n",
       "    .dataframe tbody tr th {\n",
       "        vertical-align: top;\n",
       "    }\n",
       "\n",
       "    .dataframe thead th {\n",
       "        text-align: right;\n",
       "    }\n",
       "</style>\n",
       "<table border=\"1\" class=\"dataframe\">\n",
       "  <thead>\n",
       "    <tr style=\"text-align: right;\">\n",
       "      <th></th>\n",
       "      <th>team</th>\n",
       "      <th>juegos_ganados</th>\n",
       "      <th>ha_ganado</th>\n",
       "    </tr>\n",
       "  </thead>\n",
       "  <tbody>\n",
       "    <tr>\n",
       "      <th>0</th>\n",
       "      <td>Brazil</td>\n",
       "      <td>2</td>\n",
       "      <td>1</td>\n",
       "    </tr>\n",
       "    <tr>\n",
       "      <th>1</th>\n",
       "      <td>Mexico</td>\n",
       "      <td>2</td>\n",
       "      <td>1</td>\n",
       "    </tr>\n",
       "    <tr>\n",
       "      <th>2</th>\n",
       "      <td>Croatia</td>\n",
       "      <td>1</td>\n",
       "      <td>1</td>\n",
       "    </tr>\n",
       "    <tr>\n",
       "      <th>3</th>\n",
       "      <td>Cameroon</td>\n",
       "      <td>0</td>\n",
       "      <td>0</td>\n",
       "    </tr>\n",
       "    <tr>\n",
       "      <th>4</th>\n",
       "      <td>Netherlands</td>\n",
       "      <td>3</td>\n",
       "      <td>1</td>\n",
       "    </tr>\n",
       "  </tbody>\n",
       "</table>\n",
       "</div>"
      ],
      "text/plain": [
       "          team  juegos_ganados  ha_ganado\n",
       "0       Brazil               2          1\n",
       "1       Mexico               2          1\n",
       "2      Croatia               1          1\n",
       "3     Cameroon               0          0\n",
       "4  Netherlands               3          1"
      ]
     },
     "execution_count": 10,
     "metadata": {},
     "output_type": "execute_result"
    }
   ],
   "source": [
    "df['ha_ganado']=0\n",
    "df['ha_ganado']=np.where(df.juegos_ganados>0,1,0)\n",
    "df[['team','juegos_ganados','ha_ganado']].head()"
   ]
  },
  {
   "cell_type": "code",
   "execution_count": 11,
   "id": "b702b0df",
   "metadata": {},
   "outputs": [],
   "source": [
    "df_europe=df.loc[df.continent=='europe']\n",
    "df_southamerica=df.loc[df.continent=='southamerica']\n",
    "df_africa=df.loc[df.continent=='africa']\n",
    "df_northamerica=df.loc[df.continent=='northamerica']\n",
    "df_asia=df.loc[df.continent=='asia']"
   ]
  },
  {
   "cell_type": "code",
   "execution_count": 12,
   "id": "8ae8bace",
   "metadata": {},
   "outputs": [
    {
     "data": {
      "text/plain": [
       "1    0.846154\n",
       "0    0.153846\n",
       "Name: ha_ganado, dtype: float64"
      ]
     },
     "execution_count": 12,
     "metadata": {},
     "output_type": "execute_result"
    }
   ],
   "source": [
    "df_europe.ha_ganado.value_counts('%')"
   ]
  },
  {
   "cell_type": "code",
   "execution_count": 13,
   "id": "00f64a28",
   "metadata": {},
   "outputs": [
    {
     "data": {
      "text/plain": [
       "1    1.0\n",
       "Name: ha_ganado, dtype: float64"
      ]
     },
     "execution_count": 13,
     "metadata": {},
     "output_type": "execute_result"
    }
   ],
   "source": [
    "df_southamerica.ha_ganado.value_counts('%')"
   ]
  },
  {
   "cell_type": "code",
   "execution_count": 14,
   "id": "8ea46f4e",
   "metadata": {},
   "outputs": [
    {
     "data": {
      "text/plain": [
       "1    0.6\n",
       "0    0.4\n",
       "Name: ha_ganado, dtype: float64"
      ]
     },
     "execution_count": 14,
     "metadata": {},
     "output_type": "execute_result"
    }
   ],
   "source": [
    "df_africa.ha_ganado.value_counts('%')"
   ]
  },
  {
   "cell_type": "code",
   "execution_count": 15,
   "id": "9ebeda5f",
   "metadata": {},
   "outputs": [
    {
     "data": {
      "text/plain": [
       "1    0.75\n",
       "0    0.25\n",
       "Name: ha_ganado, dtype: float64"
      ]
     },
     "execution_count": 15,
     "metadata": {},
     "output_type": "execute_result"
    }
   ],
   "source": [
    "df_northamerica.ha_ganado.value_counts('%')"
   ]
  },
  {
   "cell_type": "code",
   "execution_count": 17,
   "id": "8ff91ddb",
   "metadata": {},
   "outputs": [
    {
     "data": {
      "text/plain": [
       "0    1.0\n",
       "Name: ha_ganado, dtype: float64"
      ]
     },
     "execution_count": 17,
     "metadata": {},
     "output_type": "execute_result"
    }
   ],
   "source": [
    "df_asia.ha_ganado.value_counts('%')"
   ]
  },
  {
   "cell_type": "markdown",
   "id": "bea54d64",
   "metadata": {},
   "source": [
    "### ¿Qué continente tiene la mayor probabilidad de tener países con al menos 1 victoria?\n",
    "\n",
    "El continente que tiene la mayor probabilidad de tener países con al menos 1 victoria es southamerica con una probabilidad de un 100%\n",
    "\n",
    "### ¿Qué continente tiene un nivel similar entre países que tienen o no tienen victorias?\n",
    "El continente que tiene un nivel similar entre paises que tienen y no tienen victoria es africa, con una probabilidad de un 60% de que tenga a lo menos una victoria y un 40% sin ninguna victoria"
   ]
  },
  {
   "cell_type": "markdown",
   "id": "ebf6ba0b",
   "metadata": {},
   "source": [
    "### Reformule el código para juegos perdidos y analice los continentes con mayor probabilidad de tener países sin juegos perdidos"
   ]
  },
  {
   "cell_type": "code",
   "execution_count": 30,
   "id": "407f060f",
   "metadata": {},
   "outputs": [
    {
     "data": {
      "text/html": [
       "<div>\n",
       "<style scoped>\n",
       "    .dataframe tbody tr th:only-of-type {\n",
       "        vertical-align: middle;\n",
       "    }\n",
       "\n",
       "    .dataframe tbody tr th {\n",
       "        vertical-align: top;\n",
       "    }\n",
       "\n",
       "    .dataframe thead th {\n",
       "        text-align: right;\n",
       "    }\n",
       "</style>\n",
       "<table border=\"1\" class=\"dataframe\">\n",
       "  <thead>\n",
       "    <tr style=\"text-align: right;\">\n",
       "      <th></th>\n",
       "      <th>team</th>\n",
       "      <th>juegos_perdidos</th>\n",
       "      <th>ha_perdido</th>\n",
       "    </tr>\n",
       "  </thead>\n",
       "  <tbody>\n",
       "    <tr>\n",
       "      <th>0</th>\n",
       "      <td>Brazil</td>\n",
       "      <td>0</td>\n",
       "      <td>0</td>\n",
       "    </tr>\n",
       "    <tr>\n",
       "      <th>1</th>\n",
       "      <td>Mexico</td>\n",
       "      <td>0</td>\n",
       "      <td>0</td>\n",
       "    </tr>\n",
       "    <tr>\n",
       "      <th>2</th>\n",
       "      <td>Croatia</td>\n",
       "      <td>2</td>\n",
       "      <td>1</td>\n",
       "    </tr>\n",
       "    <tr>\n",
       "      <th>3</th>\n",
       "      <td>Cameroon</td>\n",
       "      <td>3</td>\n",
       "      <td>1</td>\n",
       "    </tr>\n",
       "    <tr>\n",
       "      <th>4</th>\n",
       "      <td>Netherlands</td>\n",
       "      <td>0</td>\n",
       "      <td>0</td>\n",
       "    </tr>\n",
       "  </tbody>\n",
       "</table>\n",
       "</div>"
      ],
      "text/plain": [
       "          team  juegos_perdidos  ha_perdido\n",
       "0       Brazil                0           0\n",
       "1       Mexico                0           0\n",
       "2      Croatia                2           1\n",
       "3     Cameroon                3           1\n",
       "4  Netherlands                0           0"
      ]
     },
     "execution_count": 30,
     "metadata": {},
     "output_type": "execute_result"
    }
   ],
   "source": [
    "df['ha_perdido']=0\n",
    "df['ha_perdido']=np.where(df.juegos_perdidos>0,1,0)\n",
    "df[['team','juegos_perdidos','ha_perdido']].head()"
   ]
  },
  {
   "cell_type": "code",
   "execution_count": 31,
   "id": "0592bf95",
   "metadata": {},
   "outputs": [
    {
     "data": {
      "text/plain": [
       "1    0.71875\n",
       "0    0.28125\n",
       "Name: ha_perdido, dtype: float64"
      ]
     },
     "execution_count": 31,
     "metadata": {},
     "output_type": "execute_result"
    }
   ],
   "source": [
    "df.ha_perdido.value_counts('%')"
   ]
  },
  {
   "cell_type": "code",
   "execution_count": 32,
   "id": "1888c063",
   "metadata": {},
   "outputs": [],
   "source": [
    "df_europe=df.loc[df.continent=='europe']\n",
    "df_southamerica=df.loc[df.continent=='southamerica']\n",
    "df_africa=df.loc[df.continent=='africa']\n",
    "df_northamerica=df.loc[df.continent=='northamerica']\n",
    "df_asia=df.loc[df.continent=='asia']"
   ]
  },
  {
   "cell_type": "code",
   "execution_count": 33,
   "id": "d76c0c10",
   "metadata": {},
   "outputs": [
    {
     "data": {
      "text/plain": [
       "1    0.692308\n",
       "0    0.307692\n",
       "Name: ha_perdido, dtype: float64"
      ]
     },
     "execution_count": 33,
     "metadata": {},
     "output_type": "execute_result"
    }
   ],
   "source": [
    "df_europe.ha_perdido.value_counts('%')"
   ]
  },
  {
   "cell_type": "code",
   "execution_count": 34,
   "id": "750474e7",
   "metadata": {},
   "outputs": [
    {
     "data": {
      "text/plain": [
       "0    0.5\n",
       "1    0.5\n",
       "Name: ha_perdido, dtype: float64"
      ]
     },
     "execution_count": 34,
     "metadata": {},
     "output_type": "execute_result"
    }
   ],
   "source": [
    "df_southamerica.ha_perdido.value_counts('%')"
   ]
  },
  {
   "cell_type": "code",
   "execution_count": 35,
   "id": "3596e577",
   "metadata": {},
   "outputs": [
    {
     "data": {
      "text/plain": [
       "1    1.0\n",
       "Name: ha_perdido, dtype: float64"
      ]
     },
     "execution_count": 35,
     "metadata": {},
     "output_type": "execute_result"
    }
   ],
   "source": [
    "df_africa.ha_perdido.value_counts('%')"
   ]
  },
  {
   "cell_type": "code",
   "execution_count": 36,
   "id": "8630a8e0",
   "metadata": {},
   "outputs": [
    {
     "data": {
      "text/plain": [
       "0    0.5\n",
       "1    0.5\n",
       "Name: ha_perdido, dtype: float64"
      ]
     },
     "execution_count": 36,
     "metadata": {},
     "output_type": "execute_result"
    }
   ],
   "source": [
    "df_northamerica.ha_perdido.value_counts('%')"
   ]
  },
  {
   "cell_type": "code",
   "execution_count": 37,
   "id": "3ef75c82",
   "metadata": {},
   "outputs": [
    {
     "data": {
      "text/plain": [
       "1    1.0\n",
       "Name: ha_perdido, dtype: float64"
      ]
     },
     "execution_count": 37,
     "metadata": {},
     "output_type": "execute_result"
    }
   ],
   "source": [
    "df_asia.ha_perdido.value_counts('%')"
   ]
  },
  {
   "cell_type": "markdown",
   "id": "98a50f2b",
   "metadata": {},
   "source": [
    "### ¿Qué continente tiene la mayor probabilidad de tener países sin juegos perdidos?\n",
    "\n",
    "Los continentes que tienen una probabilidad de un 50% de tener paises sin juegos perdidos son southamerica y northamerica\n"
   ]
  },
  {
   "cell_type": "code",
   "execution_count": null,
   "id": "7d946c0b",
   "metadata": {},
   "outputs": [],
   "source": []
  }
 ],
 "metadata": {
  "kernelspec": {
   "display_name": "Python 3.9.5 64-bit ('base': conda)",
   "language": "python",
   "name": "python395jvsc74a57bd072d69218b7fb2ce1663efa0b5e8f9de2bd757b21f6b239bd8d395fb92f34789b"
  },
  "language_info": {
   "codemirror_mode": {
    "name": "ipython",
    "version": 3
   },
   "file_extension": ".py",
   "mimetype": "text/x-python",
   "name": "python",
   "nbconvert_exporter": "python",
   "pygments_lexer": "ipython3",
   "version": "3.9.5"
  }
 },
 "nbformat": 4,
 "nbformat_minor": 5
}
