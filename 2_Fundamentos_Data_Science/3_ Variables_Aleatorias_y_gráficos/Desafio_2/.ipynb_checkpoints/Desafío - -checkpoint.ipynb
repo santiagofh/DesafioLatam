{
 "cells": [
  {
   "cell_type": "markdown",
   "id": "88b6a019",
   "metadata": {},
   "source": [
    "# 1. Importe un csv\n",
    "- Importe el set de datos creados por usted al final de la sesión pasada."
   ]
  },
  {
   "cell_type": "code",
   "execution_count": 26,
   "id": "da3bb283",
   "metadata": {},
   "outputs": [],
   "source": [
    "import pandas as pd\n",
    "df=pd.read_csv('subsample_sfh_demo.csv')"
   ]
  },
  {
   "cell_type": "markdown",
   "id": "41554dfd",
   "metadata": {},
   "source": [
    "## 2. Importe su conjunto de funciones\n",
    "- Genere un archivo `ancilliary_funcs.py` para guardar las funciones creadas en la sesión pasada e impórtelo.\n",
    "- Utilice las funciones creadas para inspeccionar la cantidad de casos perdidos de la muestra importada."
   ]
  },
  {
   "cell_type": "code",
   "execution_count": 27,
   "id": "da33f4e2",
   "metadata": {},
   "outputs": [],
   "source": [
    "#import ancilliary_funcs"
   ]
  },
  {
   "cell_type": "code",
   "execution_count": 28,
   "id": "0157e423",
   "metadata": {},
   "outputs": [],
   "source": [
    "def funcion_perdidas(dataframe,var,print_lis=False):\n",
    "    import pandas as pd\n",
    "    lista=list(dataframe[var])\n",
    "    var_perdidas=[x for x in lista if str(x)=='nan']\n",
    "    cantidad=len(var_perdidas)\n",
    "    porcentaje=len(var_perdidas)/len(lista)\n",
    "    if print_lis:\n",
    "        na=dataframe.loc[dataframe[var].isna()==True]\n",
    "        print(na[['ccodealp','ht_region']])\n",
    "    return cantidad,porcentaje"
   ]
  },
  {
   "cell_type": "code",
   "execution_count": 29,
   "id": "34fa0beb",
   "metadata": {},
   "outputs": [
    {
     "data": {
      "text/plain": [
       "(73, 0.7525773195876289)"
      ]
     },
     "execution_count": 29,
     "metadata": {},
     "output_type": "execute_result"
    }
   ],
   "source": [
    "dataframe=df\n",
    "var='wvs_relacc'\n",
    "funcion_perdidas(dataframe,var,print_lis=False)"
   ]
  },
  {
   "cell_type": "code",
   "execution_count": 44,
   "id": "01c96847",
   "metadata": {},
   "outputs": [
    {
     "data": {
      "text/html": [
       "<div>\n",
       "<style scoped>\n",
       "    .dataframe tbody tr th:only-of-type {\n",
       "        vertical-align: middle;\n",
       "    }\n",
       "\n",
       "    .dataframe tbody tr th {\n",
       "        vertical-align: top;\n",
       "    }\n",
       "\n",
       "    .dataframe thead th {\n",
       "        text-align: right;\n",
       "    }\n",
       "</style>\n",
       "<table border=\"1\" class=\"dataframe\">\n",
       "  <thead>\n",
       "    <tr style=\"text-align: right;\">\n",
       "      <th></th>\n",
       "      <th>var</th>\n",
       "      <th>q</th>\n",
       "    </tr>\n",
       "  </thead>\n",
       "  <tbody>\n",
       "    <tr>\n",
       "      <th>0</th>\n",
       "      <td>Unnamed: 0</td>\n",
       "      <td>0</td>\n",
       "    </tr>\n",
       "    <tr>\n",
       "      <th>741</th>\n",
       "      <td>gle_cgdpc</td>\n",
       "      <td>0</td>\n",
       "    </tr>\n",
       "    <tr>\n",
       "      <th>742</th>\n",
       "      <td>gle_gdp</td>\n",
       "      <td>0</td>\n",
       "    </tr>\n",
       "    <tr>\n",
       "      <th>743</th>\n",
       "      <td>gle_pop</td>\n",
       "      <td>0</td>\n",
       "    </tr>\n",
       "    <tr>\n",
       "      <th>744</th>\n",
       "      <td>gle_rgdpc</td>\n",
       "      <td>0</td>\n",
       "    </tr>\n",
       "    <tr>\n",
       "      <th>...</th>\n",
       "      <td>...</td>\n",
       "      <td>...</td>\n",
       "    </tr>\n",
       "    <tr>\n",
       "      <th>1346</th>\n",
       "      <td>une_dorg6pf</td>\n",
       "      <td>91</td>\n",
       "    </tr>\n",
       "    <tr>\n",
       "      <th>1142</th>\n",
       "      <td>p_sf</td>\n",
       "      <td>92</td>\n",
       "    </tr>\n",
       "    <tr>\n",
       "      <th>1156</th>\n",
       "      <td>psi_cpsi2</td>\n",
       "      <td>97</td>\n",
       "    </tr>\n",
       "    <tr>\n",
       "      <th>1158</th>\n",
       "      <td>psi_edate2</td>\n",
       "      <td>97</td>\n",
       "    </tr>\n",
       "    <tr>\n",
       "      <th>1160</th>\n",
       "      <td>psi_psi2</td>\n",
       "      <td>97</td>\n",
       "    </tr>\n",
       "  </tbody>\n",
       "</table>\n",
       "<p>1883 rows × 2 columns</p>\n",
       "</div>"
      ],
      "text/plain": [
       "              var   q\n",
       "0      Unnamed: 0   0\n",
       "741     gle_cgdpc   0\n",
       "742       gle_gdp   0\n",
       "743       gle_pop   0\n",
       "744     gle_rgdpc   0\n",
       "...           ...  ..\n",
       "1346  une_dorg6pf  91\n",
       "1142         p_sf  92\n",
       "1156    psi_cpsi2  97\n",
       "1158   psi_edate2  97\n",
       "1160     psi_psi2  97\n",
       "\n",
       "[1883 rows x 2 columns]"
      ]
     },
     "execution_count": 44,
     "metadata": {},
     "output_type": "execute_result"
    }
   ],
   "source": [
    "cantidad=[]\n",
    "variable=[]\n",
    "porcentaje=[]\n",
    "for i in df.columns:\n",
    "#    print(\"Variable - \"+i)\n",
    "    f=funcion_perdidas(df,i,False)\n",
    "#    print(\"La cantidad de NA es: \"+str(f[0]))\n",
    "#    print(\"El porcentaje de NA es: \"+str(f[1]))\n",
    "    cantidad.append(f[0])\n",
    "    porcentaje.append(f[1])\n",
    "    variable.append(i)\n",
    "#    print(\"\\n\")\n",
    "    \n",
    "pd.DataFrame(zip(variable,cantidad),columns=['var','q']).sort_values(by=['q'])\n"
   ]
  },
  {
   "cell_type": "code",
   "execution_count": 46,
   "id": "e2ac63f1",
   "metadata": {},
   "outputs": [],
   "source": [
    "var=['gle_cgdpc',\n",
    "'gle_gdp',\n",
    "'gle_pop'\n",
    "]\n",
    "df['Z']=0"
   ]
  },
  {
   "cell_type": "code",
   "execution_count": 52,
   "id": "6c048d0b",
   "metadata": {},
   "outputs": [],
   "source": [
    "def point_zscore(columna,caso):\n",
    "    get_point=df[df['cname']==caso][columna]\n",
    "    preproc=df[columna].dropna()\n",
    "    get_mean=preproc.mean()\n",
    "    get_std=preproc.std()\n",
    "    get_zscore = ((get_point-get_mean)/get_std)\n",
    "#    plt.axvline(get_zscore, ymin=0,ymax=.1,color='tomato',lw=2)\n",
    "#    plt.annotate(caso,xy=(get_zscore + .05, .06), color='tomato',rotation=60,size=7,ha='center')\n",
    "    return get_zscore"
   ]
  },
  {
   "cell_type": "code",
   "execution_count": 55,
   "id": "d163e2d7",
   "metadata": {},
   "outputs": [
    {
     "name": "stderr",
     "output_type": "stream",
     "text": [
      "<ipython-input-52-b228f867858b>:2: FutureWarning: Automatic reindexing on DataFrame vs Series comparisons is deprecated and will raise ValueError in a future version.  Do `left, right = left.align(right, axis=1, copy=False)` before e.g. `left == right`\n",
      "  get_point=df[df['cname']==caso][columna]\n"
     ]
    },
    {
     "data": {
      "text/plain": [
       "0    NaN\n",
       "1    NaN\n",
       "2    NaN\n",
       "3    NaN\n",
       "4    NaN\n",
       "      ..\n",
       "92   NaN\n",
       "93   NaN\n",
       "94   NaN\n",
       "95   NaN\n",
       "96   NaN\n",
       "Name: gle_cgdpc, Length: 97, dtype: float64"
      ]
     },
     "execution_count": 55,
     "metadata": {},
     "output_type": "execute_result"
    }
   ],
   "source": [
    "point_zscore('gle_cgdpc',df)"
   ]
  },
  {
   "cell_type": "code",
   "execution_count": 54,
   "id": "6fda76e2",
   "metadata": {},
   "outputs": [
    {
     "data": {
      "text/plain": [
       "0    NaN\n",
       "1    NaN\n",
       "2    NaN\n",
       "3    NaN\n",
       "4    NaN\n",
       "      ..\n",
       "92   NaN\n",
       "93   NaN\n",
       "94   NaN\n",
       "95   NaN\n",
       "96   NaN\n",
       "Name: Z, Length: 97, dtype: float64"
      ]
     },
     "execution_count": 54,
     "metadata": {},
     "output_type": "execute_result"
    }
   ],
   "source": [
    "df['Z']"
   ]
  },
  {
   "cell_type": "code",
   "execution_count": null,
   "id": "f6464928",
   "metadata": {},
   "outputs": [],
   "source": []
  }
 ],
 "metadata": {
  "kernelspec": {
   "display_name": "Python 3.8.10 64-bit ('ds': conda)",
   "language": "python",
   "name": "python3810jvsc74a57bd0057be6041a135c0c93257975b75dcc7a714228778415d7da6fb51f17628b0de5"
  },
  "language_info": {
   "codemirror_mode": {
    "name": "ipython",
    "version": 3
   },
   "file_extension": ".py",
   "mimetype": "text/x-python",
   "name": "python",
   "nbconvert_exporter": "python",
   "pygments_lexer": "ipython3",
   "version": "3.8.12"
  }
 },
 "nbformat": 4,
 "nbformat_minor": 5
}
