{
 "cells": [
  {
   "cell_type": "markdown",
   "id": "85d3b7e7",
   "metadata": {},
   "source": [
    "# Desafío - Gráficos\n",
    "## 1. Genere una muestra de casos\n",
    "- Utilice los últimos 4 dígitos de su rut como semilla pseudoaleatoria.\n",
    "- Seleccione el 50% de los casos.\n",
    "- Cada base generada debe contener los siguientes elementos:\n",
    " - El índice de desarrollo humano (undp_hdi).\n",
    " - El nombre del país (ccodealp).\n",
    " - La región a la que pertenece (ht_region).\n",
    " - El PIB per capita. ( ).\n",
    " - El total de la población (   )."
   ]
  },
  {
   "cell_type": "code",
   "execution_count": 2,
   "id": "cf4fd95e",
   "metadata": {},
   "outputs": [],
   "source": [
    "import pandas as pd\n",
    "import numpy as np"
   ]
  },
  {
   "cell_type": "code",
   "execution_count": 3,
   "id": "ede75b02",
   "metadata": {},
   "outputs": [
    {
     "data": {
      "text/plain": [
       "1922"
      ]
     },
     "execution_count": 3,
     "metadata": {},
     "output_type": "execute_result"
    }
   ],
   "source": [
    "rut=\"17681922\"\n",
    "rut=int(rut[-4:])\n",
    "rut"
   ]
  },
  {
   "cell_type": "code",
   "execution_count": 4,
   "id": "589fa026",
   "metadata": {},
   "outputs": [],
   "source": [
    "df=pd.read_csv(\"qog_std_cs_jan18.csv\")\n",
    "np.random.seed(rut)\n",
    "df=df.sample(frac = 0.5)\n"
   ]
  },
  {
   "cell_type": "code",
   "execution_count": 5,
   "id": "76f7af46",
   "metadata": {},
   "outputs": [],
   "source": [
    "list_numero=[1, 2, 3, 4, 5, 6, 7, 8, 9, 10]\n",
    "list_nombre=['EastEurope', 'LatAm', 'NorthAfrica','SubSaharian', 'WesternDem', 'EastAsia','SouthEastAsia','SouthAsia', 'Pacific', 'Caribbean' ]\n",
    "dict_ht_region=dict(zip(list_numero,list_nombre))\n",
    "df.ht_region.replace(dict_ht_region, inplace=True)"
   ]
  },
  {
   "cell_type": "markdown",
   "id": "dba24e39",
   "metadata": {},
   "source": [
    "\n",
    "Si su apellido está entre la A y la M, escoja las siguientes variables del módulo\n",
    "Educación:\n",
    "\n",
    "- ffp_hf: Human Flight and Brain Drain.\n",
    "- wef_qes: Quality of the educational system.\n",
    "- wdi_expedu: Government expenditure on education, total (% of GDP).\n",
    "- wdi_ners: School enrollment, secondary (% net)."
   ]
  },
  {
   "cell_type": "code",
   "execution_count": 6,
   "id": "c276b9c0",
   "metadata": {},
   "outputs": [
    {
     "data": {
      "text/html": [
       "<div>\n",
       "<style scoped>\n",
       "    .dataframe tbody tr th:only-of-type {\n",
       "        vertical-align: middle;\n",
       "    }\n",
       "\n",
       "    .dataframe tbody tr th {\n",
       "        vertical-align: top;\n",
       "    }\n",
       "\n",
       "    .dataframe thead th {\n",
       "        text-align: right;\n",
       "    }\n",
       "</style>\n",
       "<table border=\"1\" class=\"dataframe\">\n",
       "  <thead>\n",
       "    <tr style=\"text-align: right;\">\n",
       "      <th></th>\n",
       "      <th>undp_hdi</th>\n",
       "      <th>ccodealp</th>\n",
       "      <th>ht_region</th>\n",
       "      <th>gle_cgdpc</th>\n",
       "      <th>imf_pop</th>\n",
       "      <th>ffp_hf</th>\n",
       "      <th>wef_qes</th>\n",
       "      <th>wdi_expedu</th>\n",
       "      <th>wdi_ners</th>\n",
       "    </tr>\n",
       "  </thead>\n",
       "  <tbody>\n",
       "    <tr>\n",
       "      <th>35</th>\n",
       "      <td>0.845</td>\n",
       "      <td>CHL</td>\n",
       "      <td>LatAm</td>\n",
       "      <td>15519.08000</td>\n",
       "      <td>17.819000</td>\n",
       "      <td>3.2</td>\n",
       "      <td>3.691637</td>\n",
       "      <td>4.75012</td>\n",
       "      <td>88.297859</td>\n",
       "    </tr>\n",
       "    <tr>\n",
       "      <th>134</th>\n",
       "      <td>0.692</td>\n",
       "      <td>PRY</td>\n",
       "      <td>LatAm</td>\n",
       "      <td>4812.91990</td>\n",
       "      <td>6.559000</td>\n",
       "      <td>5.2</td>\n",
       "      <td>2.324440</td>\n",
       "      <td>4.95540</td>\n",
       "      <td>66.459518</td>\n",
       "    </tr>\n",
       "    <tr>\n",
       "      <th>146</th>\n",
       "      <td>0.735</td>\n",
       "      <td>LCA</td>\n",
       "      <td>Caribbean</td>\n",
       "      <td>11095.80000</td>\n",
       "      <td>0.167000</td>\n",
       "      <td>NaN</td>\n",
       "      <td>NaN</td>\n",
       "      <td>4.90166</td>\n",
       "      <td>77.714058</td>\n",
       "    </tr>\n",
       "    <tr>\n",
       "      <th>157</th>\n",
       "      <td>0.678</td>\n",
       "      <td>VNM</td>\n",
       "      <td>SouthEastAsia</td>\n",
       "      <td>4147.56980</td>\n",
       "      <td>89.691002</td>\n",
       "      <td>5.6</td>\n",
       "      <td>3.336011</td>\n",
       "      <td>5.65873</td>\n",
       "      <td>NaN</td>\n",
       "    </tr>\n",
       "    <tr>\n",
       "      <th>38</th>\n",
       "      <td>0.724</td>\n",
       "      <td>COL</td>\n",
       "      <td>LatAm</td>\n",
       "      <td>8761.13960</td>\n",
       "      <td>47.661999</td>\n",
       "      <td>6.7</td>\n",
       "      <td>3.405908</td>\n",
       "      <td>4.65941</td>\n",
       "      <td>78.586067</td>\n",
       "    </tr>\n",
       "    <tr>\n",
       "      <th>...</th>\n",
       "      <td>...</td>\n",
       "      <td>...</td>\n",
       "      <td>...</td>\n",
       "      <td>...</td>\n",
       "      <td>...</td>\n",
       "      <td>...</td>\n",
       "      <td>...</td>\n",
       "      <td>...</td>\n",
       "      <td>...</td>\n",
       "    </tr>\n",
       "    <tr>\n",
       "      <th>125</th>\n",
       "      <td>0.351</td>\n",
       "      <td>NER</td>\n",
       "      <td>SubSaharian</td>\n",
       "      <td>644.53998</td>\n",
       "      <td>NaN</td>\n",
       "      <td>6.9</td>\n",
       "      <td>NaN</td>\n",
       "      <td>6.70941</td>\n",
       "      <td>15.665040</td>\n",
       "    </tr>\n",
       "    <tr>\n",
       "      <th>17</th>\n",
       "      <td>0.671</td>\n",
       "      <td>BOL</td>\n",
       "      <td>LatAm</td>\n",
       "      <td>4023.87010</td>\n",
       "      <td>10.078000</td>\n",
       "      <td>6.4</td>\n",
       "      <td>3.348756</td>\n",
       "      <td>7.28546</td>\n",
       "      <td>76.535461</td>\n",
       "    </tr>\n",
       "    <tr>\n",
       "      <th>65</th>\n",
       "      <td>0.575</td>\n",
       "      <td>GHA</td>\n",
       "      <td>SubSaharian</td>\n",
       "      <td>2584.60010</td>\n",
       "      <td>NaN</td>\n",
       "      <td>7.6</td>\n",
       "      <td>3.838904</td>\n",
       "      <td>6.17855</td>\n",
       "      <td>51.058529</td>\n",
       "    </tr>\n",
       "    <tr>\n",
       "      <th>52</th>\n",
       "      <td>0.678</td>\n",
       "      <td>SLV</td>\n",
       "      <td>LatAm</td>\n",
       "      <td>332.26999</td>\n",
       "      <td>NaN</td>\n",
       "      <td>6.9</td>\n",
       "      <td>3.804579</td>\n",
       "      <td>3.44857</td>\n",
       "      <td>70.171722</td>\n",
       "    </tr>\n",
       "    <tr>\n",
       "      <th>101</th>\n",
       "      <td>0.896</td>\n",
       "      <td>LUX</td>\n",
       "      <td>WesternDem</td>\n",
       "      <td>61404.48000</td>\n",
       "      <td>0.550000</td>\n",
       "      <td>2.1</td>\n",
       "      <td>4.580255</td>\n",
       "      <td>4.08388</td>\n",
       "      <td>84.603470</td>\n",
       "    </tr>\n",
       "  </tbody>\n",
       "</table>\n",
       "<p>97 rows × 9 columns</p>\n",
       "</div>"
      ],
      "text/plain": [
       "     undp_hdi ccodealp      ht_region    gle_cgdpc    imf_pop  ffp_hf  \\\n",
       "35      0.845      CHL          LatAm  15519.08000  17.819000     3.2   \n",
       "134     0.692      PRY          LatAm   4812.91990   6.559000     5.2   \n",
       "146     0.735      LCA      Caribbean  11095.80000   0.167000     NaN   \n",
       "157     0.678      VNM  SouthEastAsia   4147.56980  89.691002     5.6   \n",
       "38      0.724      COL          LatAm   8761.13960  47.661999     6.7   \n",
       "..        ...      ...            ...          ...        ...     ...   \n",
       "125     0.351      NER    SubSaharian    644.53998        NaN     6.9   \n",
       "17      0.671      BOL          LatAm   4023.87010  10.078000     6.4   \n",
       "65      0.575      GHA    SubSaharian   2584.60010        NaN     7.6   \n",
       "52      0.678      SLV          LatAm    332.26999        NaN     6.9   \n",
       "101     0.896      LUX     WesternDem  61404.48000   0.550000     2.1   \n",
       "\n",
       "      wef_qes  wdi_expedu   wdi_ners  \n",
       "35   3.691637     4.75012  88.297859  \n",
       "134  2.324440     4.95540  66.459518  \n",
       "146       NaN     4.90166  77.714058  \n",
       "157  3.336011     5.65873        NaN  \n",
       "38   3.405908     4.65941  78.586067  \n",
       "..        ...         ...        ...  \n",
       "125       NaN     6.70941  15.665040  \n",
       "17   3.348756     7.28546  76.535461  \n",
       "65   3.838904     6.17855  51.058529  \n",
       "52   3.804579     3.44857  70.171722  \n",
       "101  4.580255     4.08388  84.603470  \n",
       "\n",
       "[97 rows x 9 columns]"
      ]
     },
     "execution_count": 6,
     "metadata": {},
     "output_type": "execute_result"
    }
   ],
   "source": [
    "var_1=['undp_hdi','ccodealp','ht_region','gle_cgdpc','imf_pop']\n",
    "var_2=['ffp_hf','wef_qes','wdi_expedu','wdi_ners']\n",
    "var=var_1+var_2\n",
    "df=df[var]\n",
    "df"
   ]
  },
  {
   "cell_type": "markdown",
   "id": "19751dde",
   "metadata": {},
   "source": [
    "## 2. Genere una función que ingrese su objeto y devuelva:\n",
    "    \n",
    "- Por cada variable existente en su objeto, calcule las medidas descriptivas para los casos continuos.\n"
   ]
  },
  {
   "cell_type": "code",
   "execution_count": 7,
   "id": "e5594a76",
   "metadata": {
    "scrolled": true
   },
   "outputs": [
    {
     "data": {
      "text/html": [
       "<div>\n",
       "<style scoped>\n",
       "    .dataframe tbody tr th:only-of-type {\n",
       "        vertical-align: middle;\n",
       "    }\n",
       "\n",
       "    .dataframe tbody tr th {\n",
       "        vertical-align: top;\n",
       "    }\n",
       "\n",
       "    .dataframe thead th {\n",
       "        text-align: right;\n",
       "    }\n",
       "</style>\n",
       "<table border=\"1\" class=\"dataframe\">\n",
       "  <thead>\n",
       "    <tr style=\"text-align: right;\">\n",
       "      <th></th>\n",
       "      <th>undp_hdi</th>\n",
       "      <th>gle_cgdpc</th>\n",
       "      <th>imf_pop</th>\n",
       "      <th>ffp_hf</th>\n",
       "      <th>wef_qes</th>\n",
       "      <th>wdi_expedu</th>\n",
       "      <th>wdi_ners</th>\n",
       "    </tr>\n",
       "  </thead>\n",
       "  <tbody>\n",
       "    <tr>\n",
       "      <th>count</th>\n",
       "      <td>95.000000</td>\n",
       "      <td>97.000000</td>\n",
       "      <td>74.000000</td>\n",
       "      <td>90.000000</td>\n",
       "      <td>80.000000</td>\n",
       "      <td>73.000000</td>\n",
       "      <td>71.000000</td>\n",
       "    </tr>\n",
       "    <tr>\n",
       "      <th>mean</th>\n",
       "      <td>0.693568</td>\n",
       "      <td>14245.515986</td>\n",
       "      <td>28.079770</td>\n",
       "      <td>5.675556</td>\n",
       "      <td>3.679881</td>\n",
       "      <td>4.657573</td>\n",
       "      <td>73.228022</td>\n",
       "    </tr>\n",
       "    <tr>\n",
       "      <th>std</th>\n",
       "      <td>0.152368</td>\n",
       "      <td>18737.557162</td>\n",
       "      <td>53.494820</td>\n",
       "      <td>2.067692</td>\n",
       "      <td>0.876512</td>\n",
       "      <td>1.513887</td>\n",
       "      <td>21.585982</td>\n",
       "    </tr>\n",
       "    <tr>\n",
       "      <th>min</th>\n",
       "      <td>0.347000</td>\n",
       "      <td>324.160000</td>\n",
       "      <td>0.018000</td>\n",
       "      <td>1.500000</td>\n",
       "      <td>1.874972</td>\n",
       "      <td>1.223930</td>\n",
       "      <td>13.600750</td>\n",
       "    </tr>\n",
       "    <tr>\n",
       "      <th>25%</th>\n",
       "      <td>0.554000</td>\n",
       "      <td>2527.100100</td>\n",
       "      <td>1.446000</td>\n",
       "      <td>4.125000</td>\n",
       "      <td>3.044672</td>\n",
       "      <td>3.539440</td>\n",
       "      <td>63.069324</td>\n",
       "    </tr>\n",
       "    <tr>\n",
       "      <th>50%</th>\n",
       "      <td>0.729000</td>\n",
       "      <td>8516.700200</td>\n",
       "      <td>7.048000</td>\n",
       "      <td>6.350000</td>\n",
       "      <td>3.644441</td>\n",
       "      <td>4.766260</td>\n",
       "      <td>79.731438</td>\n",
       "    </tr>\n",
       "    <tr>\n",
       "      <th>75%</th>\n",
       "      <td>0.796500</td>\n",
       "      <td>16900.711000</td>\n",
       "      <td>32.586501</td>\n",
       "      <td>7.300000</td>\n",
       "      <td>4.208763</td>\n",
       "      <td>5.499550</td>\n",
       "      <td>88.155182</td>\n",
       "    </tr>\n",
       "    <tr>\n",
       "      <th>max</th>\n",
       "      <td>0.938000</td>\n",
       "      <td>104049.440000</td>\n",
       "      <td>318.789001</td>\n",
       "      <td>9.300000</td>\n",
       "      <td>5.986858</td>\n",
       "      <td>8.429330</td>\n",
       "      <td>99.573357</td>\n",
       "    </tr>\n",
       "  </tbody>\n",
       "</table>\n",
       "</div>"
      ],
      "text/plain": [
       "        undp_hdi      gle_cgdpc     imf_pop     ffp_hf    wef_qes  wdi_expedu  \\\n",
       "count  95.000000      97.000000   74.000000  90.000000  80.000000   73.000000   \n",
       "mean    0.693568   14245.515986   28.079770   5.675556   3.679881    4.657573   \n",
       "std     0.152368   18737.557162   53.494820   2.067692   0.876512    1.513887   \n",
       "min     0.347000     324.160000    0.018000   1.500000   1.874972    1.223930   \n",
       "25%     0.554000    2527.100100    1.446000   4.125000   3.044672    3.539440   \n",
       "50%     0.729000    8516.700200    7.048000   6.350000   3.644441    4.766260   \n",
       "75%     0.796500   16900.711000   32.586501   7.300000   4.208763    5.499550   \n",
       "max     0.938000  104049.440000  318.789001   9.300000   5.986858    8.429330   \n",
       "\n",
       "        wdi_ners  \n",
       "count  71.000000  \n",
       "mean   73.228022  \n",
       "std    21.585982  \n",
       "min    13.600750  \n",
       "25%    63.069324  \n",
       "50%    79.731438  \n",
       "75%    88.155182  \n",
       "max    99.573357  "
      ]
     },
     "execution_count": 7,
     "metadata": {},
     "output_type": "execute_result"
    }
   ],
   "source": [
    "var_disc=['undp_hdi','gle_cgdpc','imf_pop','ffp_hf','wef_qes','wdi_expedu','wdi_ners']\n",
    "df_discreta=df[var_disc]\n",
    "df_discreta.describe(include=\"all\")"
   ]
  },
  {
   "cell_type": "markdown",
   "id": "8d85416c",
   "metadata": {},
   "source": [
    "- Para cada variable discreta, que calcule la frecuencia."
   ]
  },
  {
   "cell_type": "code",
   "execution_count": 7,
   "id": "fbdbdb4f",
   "metadata": {},
   "outputs": [],
   "source": [
    "var_disc=['ccodealp','ht_region']\n",
    "df_discreta=df[var_disc]"
   ]
  },
  {
   "cell_type": "code",
   "execution_count": 8,
   "id": "a9919559",
   "metadata": {},
   "outputs": [
    {
     "data": {
      "text/plain": [
       "CHL    1\n",
       "BWA    1\n",
       "SEN    1\n",
       "TZA    1\n",
       "HTI    1\n",
       "      ..\n",
       "BLZ    1\n",
       "GUY    1\n",
       "ETH    1\n",
       "TON    1\n",
       "LUX    1\n",
       "Name: ccodealp, Length: 97, dtype: int64"
      ]
     },
     "execution_count": 8,
     "metadata": {},
     "output_type": "execute_result"
    }
   ],
   "source": [
    "df_discreta.ccodealp.value_counts()"
   ]
  },
  {
   "cell_type": "code",
   "execution_count": 9,
   "id": "b8723cd0",
   "metadata": {
    "scrolled": true
   },
   "outputs": [
    {
     "data": {
      "text/plain": [
       "SubSaharian      24\n",
       "LatAm            13\n",
       "WesternDem       13\n",
       "EastEurope       12\n",
       "Caribbean        10\n",
       "NorthAfrica       9\n",
       "Pacific           5\n",
       "SouthEastAsia     4\n",
       "EastAsia          4\n",
       "SouthAsia         3\n",
       "Name: ht_region, dtype: int64"
      ]
     },
     "execution_count": 9,
     "metadata": {},
     "output_type": "execute_result"
    }
   ],
   "source": [
    "df_discreta.ht_region.value_counts()"
   ]
  },
  {
   "cell_type": "markdown",
   "id": "779dc271",
   "metadata": {},
   "source": [
    "- Reporte las estadísticas descriptivas para gle_cgdpc, undp_hdi, imf_pop."
   ]
  },
  {
   "cell_type": "code",
   "execution_count": 10,
   "id": "04e2ac6f",
   "metadata": {},
   "outputs": [
    {
     "data": {
      "text/html": [
       "<div>\n",
       "<style scoped>\n",
       "    .dataframe tbody tr th:only-of-type {\n",
       "        vertical-align: middle;\n",
       "    }\n",
       "\n",
       "    .dataframe tbody tr th {\n",
       "        vertical-align: top;\n",
       "    }\n",
       "\n",
       "    .dataframe thead th {\n",
       "        text-align: right;\n",
       "    }\n",
       "</style>\n",
       "<table border=\"1\" class=\"dataframe\">\n",
       "  <thead>\n",
       "    <tr style=\"text-align: right;\">\n",
       "      <th></th>\n",
       "      <th>gle_cgdpc</th>\n",
       "      <th>undp_hdi</th>\n",
       "      <th>imf_pop</th>\n",
       "    </tr>\n",
       "  </thead>\n",
       "  <tbody>\n",
       "    <tr>\n",
       "      <th>count</th>\n",
       "      <td>97.000000</td>\n",
       "      <td>95.000000</td>\n",
       "      <td>74.000000</td>\n",
       "    </tr>\n",
       "    <tr>\n",
       "      <th>mean</th>\n",
       "      <td>14245.515986</td>\n",
       "      <td>0.693568</td>\n",
       "      <td>28.079770</td>\n",
       "    </tr>\n",
       "    <tr>\n",
       "      <th>std</th>\n",
       "      <td>18737.557162</td>\n",
       "      <td>0.152368</td>\n",
       "      <td>53.494820</td>\n",
       "    </tr>\n",
       "    <tr>\n",
       "      <th>min</th>\n",
       "      <td>324.160000</td>\n",
       "      <td>0.347000</td>\n",
       "      <td>0.018000</td>\n",
       "    </tr>\n",
       "    <tr>\n",
       "      <th>25%</th>\n",
       "      <td>2527.100100</td>\n",
       "      <td>0.554000</td>\n",
       "      <td>1.446000</td>\n",
       "    </tr>\n",
       "    <tr>\n",
       "      <th>50%</th>\n",
       "      <td>8516.700200</td>\n",
       "      <td>0.729000</td>\n",
       "      <td>7.048000</td>\n",
       "    </tr>\n",
       "    <tr>\n",
       "      <th>75%</th>\n",
       "      <td>16900.711000</td>\n",
       "      <td>0.796500</td>\n",
       "      <td>32.586501</td>\n",
       "    </tr>\n",
       "    <tr>\n",
       "      <th>max</th>\n",
       "      <td>104049.440000</td>\n",
       "      <td>0.938000</td>\n",
       "      <td>318.789001</td>\n",
       "    </tr>\n",
       "  </tbody>\n",
       "</table>\n",
       "</div>"
      ],
      "text/plain": [
       "           gle_cgdpc   undp_hdi     imf_pop\n",
       "count      97.000000  95.000000   74.000000\n",
       "mean    14245.515986   0.693568   28.079770\n",
       "std     18737.557162   0.152368   53.494820\n",
       "min       324.160000   0.347000    0.018000\n",
       "25%      2527.100100   0.554000    1.446000\n",
       "50%      8516.700200   0.729000    7.048000\n",
       "75%     16900.711000   0.796500   32.586501\n",
       "max    104049.440000   0.938000  318.789001"
      ]
     },
     "execution_count": 10,
     "metadata": {},
     "output_type": "execute_result"
    }
   ],
   "source": [
    "var_stat=['gle_cgdpc', 'undp_hdi', 'imf_pop']\n",
    "df_stat=df[var_stat]\n",
    "df_stat.describe()"
   ]
  },
  {
   "cell_type": "markdown",
   "id": "bfc7b29d",
   "metadata": {},
   "source": [
    "- Compare las estadísticas con algún compañero. ¿Ve alguna diferencia sustancial en alguna de ellas?"
   ]
  },
  {
   "cell_type": "markdown",
   "id": "92d9a918",
   "metadata": {},
   "source": [
    "gle_cgdpc\n",
    "- count: 96.000000\n",
    "- mean: 11737.416792\n",
    "- std: 12294.596417\n",
    "\n",
    "undp hdi\n",
    "- count: 94.000000\n",
    "- mean: 0.694681\n",
    "- std: 0.141093\n",
    "\n",
    "imf_pop\n",
    "- count: 72.000000\n",
    "- mean: 25.763708\n",
    "- std: 47.832901"
   ]
  },
  {
   "cell_type": "markdown",
   "id": "783f7644",
   "metadata": {},
   "source": [
    "No se observa una diferencia **significativa** entre los resultados obtenidos entre los resultados obtenidos, dado que en se encuentran cercana a la media considerando sus disperción. Sin embargo la diferencia mas sustancias se observa la media y desviación de **gle_cgdpc**. Esto se explica principalmente por tomar un 50% de los datos con una semilla aleatoria distinta lo que provoca estas diferencias "
   ]
  },
  {
   "cell_type": "markdown",
   "id": "ae2fa164",
   "metadata": {},
   "source": [
    "## 3. Genere una función que liste las observaciones perdidas de una variable\n",
    "- La función debe contener los siguientes argumentos:\n",
    " - `dataframe`: La función debe ingresar un objeto DataFrame.\n",
    " - `var`: Variable a inspeccionar.\n",
    " - `print_lis`: Opción para imprimir la lista de observaciones perdidas en la variable. Debe ser False por defecto.\n",
    "- La función debe retornar la cantidad de casos perdidos y el porcentaje correspondiente.\n",
    "- Cuando `print_list = True`, debe retornar la lista de casos.\n",
    "- Analice todas las variables y sus casos perdidos.\n",
    "\n",
    "Para las 3 variables con un mayor porcentaje de casos perdidos, solicite la lista de países con ausencia de datos."
   ]
  },
  {
   "cell_type": "code",
   "execution_count": 11,
   "id": "af8390c1",
   "metadata": {},
   "outputs": [],
   "source": [
    "def funcion1(dataframe,var,print_lis=False):\n",
    "    lista=list(df[var])\n",
    "    var_perdidas=[x for x in lista if str(x)=='nan']\n",
    "    cantidad=len(var_perdidas)\n",
    "    porcentaje=len(var_perdidas)/len(lista)\n",
    "    if print_lis:\n",
    "        na=dataframe.loc[dataframe[var].isna()==True]\n",
    "        print(na[['ccodealp','ht_region']])\n",
    "    return cantidad,porcentaje"
   ]
  },
  {
   "cell_type": "code",
   "execution_count": 12,
   "id": "7567d434",
   "metadata": {},
   "outputs": [
    {
     "name": "stdout",
     "output_type": "stream",
     "text": [
      "Variable - undp_hdi\n",
      "La cantidad de NA es: 2\n",
      "El porcentaje de NA es: 0.020618556701030927\n",
      "\n",
      "\n",
      "Variable - ccodealp\n",
      "La cantidad de NA es: 0\n",
      "El porcentaje de NA es: 0.0\n",
      "\n",
      "\n",
      "Variable - ht_region\n",
      "La cantidad de NA es: 0\n",
      "El porcentaje de NA es: 0.0\n",
      "\n",
      "\n",
      "Variable - gle_cgdpc\n",
      "La cantidad de NA es: 0\n",
      "El porcentaje de NA es: 0.0\n",
      "\n",
      "\n",
      "Variable - imf_pop\n",
      "La cantidad de NA es: 23\n",
      "El porcentaje de NA es: 0.23711340206185566\n",
      "\n",
      "\n",
      "Variable - ffp_hf\n",
      "La cantidad de NA es: 7\n",
      "El porcentaje de NA es: 0.07216494845360824\n",
      "\n",
      "\n",
      "Variable - wef_qes\n",
      "La cantidad de NA es: 17\n",
      "El porcentaje de NA es: 0.17525773195876287\n",
      "\n",
      "\n",
      "Variable - wdi_expedu\n",
      "La cantidad de NA es: 24\n",
      "El porcentaje de NA es: 0.24742268041237114\n",
      "\n",
      "\n",
      "Variable - wdi_ners\n",
      "La cantidad de NA es: 26\n",
      "El porcentaje de NA es: 0.26804123711340205\n",
      "\n",
      "\n"
     ]
    }
   ],
   "source": [
    "cantidad=[]\n",
    "variable=[]\n",
    "porcentaje=[]\n",
    "for i in df.columns:\n",
    "    print(\"Variable - \"+i)\n",
    "    f=funcion1(df,i,False)\n",
    "    print(\"La cantidad de NA es: \"+str(f[0]))\n",
    "    print(\"El porcentaje de NA es: \"+str(f[1]))\n",
    "    cantidad.append(f[0])\n",
    "    porcentaje.append(f[1])\n",
    "    variable.append(i)\n",
    "    print(\"\\n\")"
   ]
  },
  {
   "cell_type": "code",
   "execution_count": 13,
   "id": "a8474b5a",
   "metadata": {},
   "outputs": [
    {
     "data": {
      "text/html": [
       "<div>\n",
       "<style scoped>\n",
       "    .dataframe tbody tr th:only-of-type {\n",
       "        vertical-align: middle;\n",
       "    }\n",
       "\n",
       "    .dataframe tbody tr th {\n",
       "        vertical-align: top;\n",
       "    }\n",
       "\n",
       "    .dataframe thead th {\n",
       "        text-align: right;\n",
       "    }\n",
       "</style>\n",
       "<table border=\"1\" class=\"dataframe\">\n",
       "  <thead>\n",
       "    <tr style=\"text-align: right;\">\n",
       "      <th></th>\n",
       "      <th>cantidad</th>\n",
       "      <th>variable</th>\n",
       "      <th>porcentaje</th>\n",
       "    </tr>\n",
       "  </thead>\n",
       "  <tbody>\n",
       "    <tr>\n",
       "      <th>8</th>\n",
       "      <td>26</td>\n",
       "      <td>wdi_ners</td>\n",
       "      <td>0.268041</td>\n",
       "    </tr>\n",
       "    <tr>\n",
       "      <th>7</th>\n",
       "      <td>24</td>\n",
       "      <td>wdi_expedu</td>\n",
       "      <td>0.247423</td>\n",
       "    </tr>\n",
       "    <tr>\n",
       "      <th>4</th>\n",
       "      <td>23</td>\n",
       "      <td>imf_pop</td>\n",
       "      <td>0.237113</td>\n",
       "    </tr>\n",
       "  </tbody>\n",
       "</table>\n",
       "</div>"
      ],
      "text/plain": [
       "   cantidad    variable  porcentaje\n",
       "8        26    wdi_ners    0.268041\n",
       "7        24  wdi_expedu    0.247423\n",
       "4        23     imf_pop    0.237113"
      ]
     },
     "execution_count": 13,
     "metadata": {},
     "output_type": "execute_result"
    }
   ],
   "source": [
    "df_cantidad=pd.DataFrame(zip(cantidad,variable,porcentaje), columns = ['cantidad', 'variable','porcentaje'])\n",
    "df_cantidad.columns\n",
    "df_cantidad.sort_values(by=['porcentaje'],ascending=False,inplace=True)\n",
    "df_cantidad.head(3)"
   ]
  },
  {
   "cell_type": "markdown",
   "id": "cd8c93d2",
   "metadata": {},
   "source": [
    "## 4. Grafique histogramas indicando medias muestral y total\n",
    "- Genere una nueva función que grafique un histograma de una variable entregada para un DataFrame de muestra. El gráfico debe además señalar las medias de la variable entregada, tanto para el DataFrame de muestra entregado, como para el DataFrame completo correspondiente.\n",
    "- La función debe incluir los siguientes argumentos:\n",
    " - `sample_df`: La base de datos donde se encuentran los datos específicos (muestra).\n",
    " - `full_df`: La base de datos donde se encuentran todos los datos (contiene los datos de la muestra).\n",
    " - `var`:Lavariable a graficar.\n",
    " - `sample_mean`: Booleano. Si es verdadero, debe generar una recta vertical indicando la media de la variable en la selección muestral (sample_df). Por defecto debe ser False.\n",
    " - `true_mean`: Booleano. Si es verdadero, debe generar una recta vertical indicando la media de variable en la base de datos completa (full_df).\n",
    "- Implemente las funciones para las 4 variables seleccionadas según su grupo.\n",
    "- ¿En qué variables la media de la muestra es mayor a la de los datos completos?"
   ]
  },
  {
   "cell_type": "code",
   "execution_count": 14,
   "id": "26ee3bbf",
   "metadata": {},
   "outputs": [],
   "source": [
    "import pandas as pd\n",
    "import numpy as np\n",
    "import matplotlib.pyplot as plt\n",
    "plt.style.use('seaborn-whitegrid')\n",
    "plt.rcParams[\"figure.figsize\"] = (10, 6)\n",
    "rut=\"17681922\"\n",
    "rut=int(rut[-4:])\n",
    "rut\n",
    "df=pd.read_csv(\"qog_std_cs_jan18.csv\")\n",
    "np.random.seed(rut)\n",
    "df_sample=df.sample(frac = 0.5)"
   ]
  },
  {
   "cell_type": "code",
   "execution_count": 15,
   "id": "830c2c8a",
   "metadata": {},
   "outputs": [],
   "source": [
    "def funcion_grafico_1(sample_df,full_df,var,sample_mean=False,true_mean=False):\n",
    "    mean_sample=np.mean(sample_df[var])\n",
    "    mean_full=np.mean(full_df[var])\n",
    "    plt.hist(sample_df[var].dropna())\n",
    "    if sample_mean:\n",
    "        plt.axvline(mean_sample, lw=3 , color='green', linestyle='--')\n",
    "    if true_mean:\n",
    "        plt.axvline(mean_full, lw=3 , color='tomato', linestyle='--')\n",
    "    plt.xlabel(var)\n",
    "    plt.ylabel('Frecuencia')"
   ]
  },
  {
   "cell_type": "code",
   "execution_count": 16,
   "id": "cfd39a81",
   "metadata": {},
   "outputs": [],
   "source": [
    "sample_df=df_sample\n",
    "full_df=df\n",
    "var=['ffp_hf','wef_qes','wdi_expedu','wdi_ners']\n",
    "sample_mean=True\n",
    "true_mean=True"
   ]
  },
  {
   "cell_type": "code",
   "execution_count": 17,
   "id": "31c21992",
   "metadata": {},
   "outputs": [
    {
     "data": {
      "image/png": "[encoded data removed]",
      "text/plain": [
       "<Figure size 720x432 with 1 Axes>"
      ]
     },
     "metadata": {},
     "output_type": "display_data"
    }
   ],
   "source": [
    "funcion_grafico_1(sample_df,full_df,'ffp_hf',sample_mean,true_mean)"
   ]
  },
  {
   "cell_type": "code",
   "execution_count": 18,
   "id": "3d73be8a",
   "metadata": {},
   "outputs": [
    {
     "data": {
      "image/png": "[encoded data removed]",
      "text/plain": [
       "<Figure size 720x432 with 1 Axes>"
      ]
     },
     "metadata": {},
     "output_type": "display_data"
    }
   ],
   "source": [
    "funcion_grafico_1(sample_df,full_df,'wef_qes',sample_mean,true_mean)"
   ]
  },
  {
   "cell_type": "code",
   "execution_count": 19,
   "id": "9a7bf456",
   "metadata": {},
   "outputs": [
    {
     "data": {
      "image/png": "[encoded data removed]",
      "text/plain": [
       "<Figure size 720x432 with 1 Axes>"
      ]
     },
     "metadata": {},
     "output_type": "display_data"
    }
   ],
   "source": [
    "funcion_grafico_1(sample_df,full_df,'wdi_expedu',sample_mean,true_mean)"
   ]
  },
  {
   "cell_type": "code",
   "execution_count": 20,
   "id": "79ab4e6c",
   "metadata": {},
   "outputs": [
    {
     "data": {
      "image/png": "[encoded data removed]",
      "text/plain": [
       "<Figure size 720x432 with 1 Axes>"
      ]
     },
     "metadata": {},
     "output_type": "display_data"
    }
   ],
   "source": [
    "funcion_grafico_1(sample_df,full_df,'wdi_ners',sample_mean,true_mean)"
   ]
  },
  {
   "cell_type": "markdown",
   "id": "256f9a78",
   "metadata": {},
   "source": [
    "## 5. Genere una función que devuelva un dotplot con las medias por región para una variable entregada\n",
    "- Cada “punto” del dotplot debe representar la media, o mediana, de una variable para una región específica.\n",
    "- La función debe contener los siguientes parámetros:\n",
    "\n",
    " - dataframe: La tabla de datos donde buscar las variables.\n",
    " -  plot_var: Corresponde a una columna del dataframe entregado, de la cual se desea obtener la métrica (puede ser media o mediana).\n",
    "- plot_by: Corresponde a otra columna del dataframe entregado. \n",
    "- Es la columna por la cual se quiere agrupar el dataframe, para acceder luego a la columna entregada en plot_var. Tip: Revise el uso del método groupby de\n",
    "- Debe presentar dos opciones;   para la media y \"median\" para la mediana. Por defecto debe ser .\n",
    "- global_stat: Booleano. Si es debe graficar la media (o mediana, según lo indicado en ) de la variable plot_var entregada, sin"
   ]
  },
  {
   "cell_type": "code",
   "execution_count": 21,
   "id": "27d5484a",
   "metadata": {},
   "outputs": [],
   "source": [
    "\n",
    "list_numero=[1, 2, 3, 4, 5, 6, 7, 8, 9, 10]\n",
    "list_nombre=['EastEurope', 'LatAm', 'NorthAfrica','SubSaharian', 'WesternDem', 'EastAsia','SouthEastAsia','SouthAsia', 'Pacific', 'Caribbean' ]\n",
    "dict_ht_region=dict(zip(list_numero,list_nombre))\n",
    "df_sample.ht_region.replace(dict_ht_region, inplace=True)\n",
    "\n",
    "def funcion_grafico_2(dataframe,plot_var,statistic='mean',global_stat=False):\n",
    "    if statistic == 'mean':\n",
    "        groupby_mean_df=dataframe.groupby(plot_by)[plot_var].mean()\n",
    "        plt.plot(groupby_mean_df.values,groupby_mean_df.index,'o')\n",
    "        if global_stat:\n",
    "            plt.axvline(dataframe[plot_var].mean(),color='tomato',linestyle='--',)\n",
    "    if statistic == 'median':\n",
    "        groupby_median_df=dataframe.groupby(plot_by)[plot_var].median()\n",
    "        plt.plot(groupby_median_df.values,groupby_median_df.index,'o')\n",
    "        if global_stat:\n",
    "            plt.axvline(dataframe[plot_var].mean(),color='tomato',linestyle='--',)"
   ]
  },
  {
   "cell_type": "code",
   "execution_count": 22,
   "id": "2cf666bf",
   "metadata": {},
   "outputs": [
    {
     "data": {
      "image/png": "[encoded data removed]",
      "text/plain": [
       "<Figure size 720x432 with 1 Axes>"
      ]
     },
     "metadata": {},
     "output_type": "display_data"
    }
   ],
   "source": [
    "dataframe=df_sample\n",
    "plot_var='ffp_hf'\n",
    "plot_by='ht_region'\n",
    "statistic='mean'\n",
    "global_stat=True\n",
    "funcion_grafico_2(dataframe,plot_var,statistic='median',global_stat=True)"
   ]
  },
  {
   "cell_type": "markdown",
   "id": "1d289509",
   "metadata": {},
   "source": [
    "## 6. Guarde la base de datos\n",
    "La submuestra creada tiene un método llamado to_csv.\n",
    "Acceda a este y guarde la base de datos con la siguiente nomenclatura: subsample_\\<iniciales\\>_demo.csv.\n",
    "(Subela a la plataforma, junto al desafío)"
   ]
  },
  {
   "cell_type": "code",
   "execution_count": 23,
   "id": "d37c060e",
   "metadata": {},
   "outputs": [],
   "source": [
    "df_sample.to_csv('subsample_sfh_demo.csv')"
   ]
  },
  {
   "cell_type": "code",
   "execution_count": null,
   "id": "98720348",
   "metadata": {},
   "outputs": [],
   "source": [
    " "
   ]
  }
 ],
 "metadata": {
  "kernelspec": {
   "display_name": "Python 3.9.5 64-bit ('base': conda)",
   "language": "python",
   "name": "python395jvsc74a57bd072d69218b7fb2ce1663efa0b5e8f9de2bd757b21f6b239bd8d395fb92f34789b"
  },
  "language_info": {
   "codemirror_mode": {
    "name": "ipython",
    "version": 3
   },
   "file_extension": ".py",
   "mimetype": "text/x-python",
   "name": "python",
   "nbconvert_exporter": "python",
   "pygments_lexer": "ipython3",
   "version": "3.9.5"
  }
 },
 "nbformat": 4,
 "nbformat_minor": 5
}
