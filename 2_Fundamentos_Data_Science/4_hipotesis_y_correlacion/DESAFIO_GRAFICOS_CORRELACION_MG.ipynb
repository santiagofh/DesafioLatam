{
 "cells": [
  {
   "cell_type": "markdown",
   "id": "d7d0fa8b",
   "metadata": {},
   "source": [
    "# Desafío - Gráficos y correlación"
   ]
  },
  {
   "cell_type": "markdown",
   "id": "67e75627",
   "metadata": {},
   "source": [
    "## 1. Importar librerías y .csv"
   ]
  },
  {
   "cell_type": "code",
   "execution_count": 1,
   "id": "5b93f11d",
   "metadata": {},
   "outputs": [],
   "source": [
    "import pandas as pd\n",
    "import seaborn as sns\n",
    "import numpy as np\n",
    "from matplotlib import pyplot as plt"
   ]
  },
  {
   "cell_type": "code",
   "execution_count": 2,
   "id": "8d9a2a76",
   "metadata": {},
   "outputs": [],
   "source": [
    "df=pd.read_csv('nations.csv',encoding='iso-8859-1')"
   ]
  },
  {
   "cell_type": "code",
   "execution_count": 3,
   "id": "4f4d09b1",
   "metadata": {},
   "outputs": [
    {
     "data": {
      "text/html": [
       "<div>\n",
       "<style scoped>\n",
       "    .dataframe tbody tr th:only-of-type {\n",
       "        vertical-align: middle;\n",
       "    }\n",
       "\n",
       "    .dataframe tbody tr th {\n",
       "        vertical-align: top;\n",
       "    }\n",
       "\n",
       "    .dataframe thead th {\n",
       "        text-align: right;\n",
       "    }\n",
       "</style>\n",
       "<table border=\"1\" class=\"dataframe\">\n",
       "  <thead>\n",
       "    <tr style=\"text-align: right;\">\n",
       "      <th></th>\n",
       "      <th>Unnamed: 0</th>\n",
       "      <th>country</th>\n",
       "      <th>region</th>\n",
       "      <th>gdp</th>\n",
       "      <th>school</th>\n",
       "      <th>adfert</th>\n",
       "      <th>chldmort</th>\n",
       "      <th>life</th>\n",
       "      <th>pop</th>\n",
       "      <th>urban</th>\n",
       "      <th>femlab</th>\n",
       "      <th>literacy</th>\n",
       "      <th>co2</th>\n",
       "      <th>gini</th>\n",
       "    </tr>\n",
       "  </thead>\n",
       "  <tbody>\n",
       "    <tr>\n",
       "      <th>0</th>\n",
       "      <td>1</td>\n",
       "      <td>Algeria</td>\n",
       "      <td>Africa</td>\n",
       "      <td>7300.399902</td>\n",
       "      <td>6.716667</td>\n",
       "      <td>7.300000</td>\n",
       "      <td>34.75</td>\n",
       "      <td>72.316666</td>\n",
       "      <td>34172236</td>\n",
       "      <td>64.933334</td>\n",
       "      <td>0.4522</td>\n",
       "      <td>72.599998</td>\n",
       "      <td>15.0</td>\n",
       "      <td>NaN</td>\n",
       "    </tr>\n",
       "    <tr>\n",
       "      <th>1</th>\n",
       "      <td>2</td>\n",
       "      <td>Benin</td>\n",
       "      <td>Africa</td>\n",
       "      <td>1338.800049</td>\n",
       "      <td>3.100000</td>\n",
       "      <td>111.699997</td>\n",
       "      <td>122.75</td>\n",
       "      <td>54.733334</td>\n",
       "      <td>8237634</td>\n",
       "      <td>41.000000</td>\n",
       "      <td>0.8482</td>\n",
       "      <td>41.700001</td>\n",
       "      <td>1.2</td>\n",
       "      <td>NaN</td>\n",
       "    </tr>\n",
       "    <tr>\n",
       "      <th>2</th>\n",
       "      <td>3</td>\n",
       "      <td>Botswana</td>\n",
       "      <td>Africa</td>\n",
       "      <td>12307.400391</td>\n",
       "      <td>8.600000</td>\n",
       "      <td>52.099998</td>\n",
       "      <td>60.25</td>\n",
       "      <td>52.250000</td>\n",
       "      <td>1941233</td>\n",
       "      <td>59.250000</td>\n",
       "      <td>0.8870</td>\n",
       "      <td>84.099998</td>\n",
       "      <td>9.2</td>\n",
       "      <td>NaN</td>\n",
       "    </tr>\n",
       "    <tr>\n",
       "      <th>3</th>\n",
       "      <td>4</td>\n",
       "      <td>Burkina Faso</td>\n",
       "      <td>Africa</td>\n",
       "      <td>1063.400024</td>\n",
       "      <td>1.300000</td>\n",
       "      <td>124.800003</td>\n",
       "      <td>170.50</td>\n",
       "      <td>53.783333</td>\n",
       "      <td>15308383</td>\n",
       "      <td>23.583334</td>\n",
       "      <td>0.8584</td>\n",
       "      <td>23.600000</td>\n",
       "      <td>0.2</td>\n",
       "      <td>NaN</td>\n",
       "    </tr>\n",
       "    <tr>\n",
       "      <th>4</th>\n",
       "      <td>5</td>\n",
       "      <td>Burundi</td>\n",
       "      <td>Africa</td>\n",
       "      <td>349.200012</td>\n",
       "      <td>2.483333</td>\n",
       "      <td>18.600000</td>\n",
       "      <td>168.50</td>\n",
       "      <td>48.866665</td>\n",
       "      <td>7821783</td>\n",
       "      <td>10.250000</td>\n",
       "      <td>1.0344</td>\n",
       "      <td>66.599998</td>\n",
       "      <td>0.1</td>\n",
       "      <td>33.299999</td>\n",
       "    </tr>\n",
       "  </tbody>\n",
       "</table>\n",
       "</div>"
      ],
      "text/plain": [
       "   Unnamed: 0       country  region           gdp    school      adfert  \\\n",
       "0           1       Algeria  Africa   7300.399902  6.716667    7.300000   \n",
       "1           2         Benin  Africa   1338.800049  3.100000  111.699997   \n",
       "2           3      Botswana  Africa  12307.400391  8.600000   52.099998   \n",
       "3           4  Burkina Faso  Africa   1063.400024  1.300000  124.800003   \n",
       "4           5       Burundi  Africa    349.200012  2.483333   18.600000   \n",
       "\n",
       "   chldmort       life       pop      urban  femlab   literacy   co2  \\\n",
       "0     34.75  72.316666  34172236  64.933334  0.4522  72.599998  15.0   \n",
       "1    122.75  54.733334   8237634  41.000000  0.8482  41.700001   1.2   \n",
       "2     60.25  52.250000   1941233  59.250000  0.8870  84.099998   9.2   \n",
       "3    170.50  53.783333  15308383  23.583334  0.8584  23.600000   0.2   \n",
       "4    168.50  48.866665   7821783  10.250000  1.0344  66.599998   0.1   \n",
       "\n",
       "        gini  \n",
       "0        NaN  \n",
       "1        NaN  \n",
       "2        NaN  \n",
       "3        NaN  \n",
       "4  33.299999  "
      ]
     },
     "execution_count": 3,
     "metadata": {},
     "output_type": "execute_result"
    }
   ],
   "source": [
    "df.head()"
   ]
  },
  {
   "cell_type": "markdown",
   "id": "9694dab1",
   "metadata": {},
   "source": [
    "## 2. Refactor gráficos matplotlib a seaborn"
   ]
  },
  {
   "cell_type": "markdown",
   "id": "7f2c1bce",
   "metadata": {},
   "source": [
    "a) HISTOGRAMAS\n",
    "\n",
    "def binarize_histogram(dataframe, variable):\n",
    "tmp = dataframe\n",
    "tmp['binarize'] = np.where(tmp[variable] > np.mean(tmp[variable]), 1,\n",
    "0)\n",
    "hist_1 = tmp[tmp['binarize'] == 1][variable].dropna()\n",
    "hist_0 = tmp[tmp['binarize'] == 0][variable].dropna()\n",
    "plt.subplot(1, 2, 1)\n",
    "plt.hist(hist_0, alpha=.6, color='lightgrey')\n",
    "plt.axvline(np.mean(hist_0))\n",
    "plt.title(\"{0} <= {1}\".format(variable, round(np.mean(hist_0), 3)))\n",
    "plt.subplot(1, 2, 2)\n",
    "plt.hist(hist_1, alpha=.6, color='lightgrey')\n",
    "plt.axvline(np.mean(hist_1))\n",
    "plt.title(\"{0} >= {1}\".format(variable, round(np.mean(hist_0), 3)))\n",
    "binarize_histogram(df, 'adfert')"
   ]
  },
  {
   "cell_type": "code",
   "execution_count": 6,
   "id": "37cbbd1b",
   "metadata": {},
   "outputs": [],
   "source": [
    "def plot_mean(data,**kwargs):\n",
    "    m = data.mean()\n",
    "    plt.axvline(m, **kwargs)\n",
    "    return m\n",
    "\n",
    "def binarize_histogram(dataframe, variable):\n",
    "    tmp = dataframe\n",
    "    tmp['binarize'] = np.where(tmp[variable] > np.mean(tmp[variable]), 1,\n",
    "    0)\n",
    "    g=sns.FacetGrid(tmp,col_wrap=2,col='binarize',size=6)\n",
    "    g.map(sns.histplot,variable,alpha=.5)\n",
    "    g.map(plot_mean,variable,color='red')\n",
    "  \n"
   ]
  },
  {
   "cell_type": "code",
   "execution_count": 7,
   "id": "a55f2cab",
   "metadata": {},
   "outputs": [
    {
     "name": "stderr",
     "output_type": "stream",
     "text": [
      "/home/megaticac/miniconda3/lib/python3.8/site-packages/seaborn/axisgrid.py:316: UserWarning: The `size` parameter has been renamed to `height`; please update your code.\n",
      "  warnings.warn(msg, UserWarning)\n"
     ]
    },
    {
     "data": {
      "image/png": "[encoded data removed]",
      "text/plain": [
       "<Figure size 864x432 with 2 Axes>"
      ]
     },
     "metadata": {
      "needs_background": "light"
     },
     "output_type": "display_data"
    }
   ],
   "source": [
    "binarize_histogram(df,'adfert')"
   ]
  },
  {
   "cell_type": "markdown",
   "id": "5f6d1c5e",
   "metadata": {},
   "source": [
    "## Comentarios:\n",
    "A partir de los gráficos se desprende lo siguiente:\n",
    "    - La distribución de los datos menores a la media presentan una mayor condensación que los datos mayores a la media.\n",
    "    - "
   ]
  },
  {
   "cell_type": "markdown",
   "id": "8b7192cd",
   "metadata": {},
   "source": [
    "b) Boxplots\n",
    "\n",
    "def grouped_boxplot(dataframe, variable, group_by):\n",
    "tmp = dataframe\n",
    "stratify_by = tmp[group_by].unique()\n",
    "if len(stratify_by) / 2 > 3:\n",
    "fig, ax = plt.subplots(2, len(stratify_by),sharey=True)\n",
    "else:\n",
    "fig, ax = plt.subplots(1, len(stratify_by),sharey=True)\n",
    "for i, n in enumerate(stratify_by):\n",
    "ax[i].boxplot(tmp[tmp[group_by] == n][variable])\n",
    "ax[i].set_title(n)\n",
    "grouped_boxplot(df, 'adfert', 'region')"
   ]
  },
  {
   "cell_type": "code",
   "execution_count": 37,
   "id": "6712b034",
   "metadata": {},
   "outputs": [],
   "source": [
    "def grouped_boxplot(dataframe,variable, group_by):\n",
    "    tmp = dataframe\n",
    "    g=sns.FacetGrid(tmp,col=group_by,size=3)\n",
    "    g.map(sns.boxplot,variable,orient=\"v\")\n",
    "    "
   ]
  },
  {
   "cell_type": "code",
   "execution_count": 38,
   "id": "23b15775",
   "metadata": {},
   "outputs": [
    {
     "name": "stderr",
     "output_type": "stream",
     "text": [
      "/home/megaticac/miniconda3/lib/python3.8/site-packages/seaborn/axisgrid.py:316: UserWarning: The `size` parameter has been renamed to `height`; please update your code.\n",
      "  warnings.warn(msg, UserWarning)\n",
      "/home/megaticac/miniconda3/lib/python3.8/site-packages/seaborn/axisgrid.py:643: UserWarning: Using the boxplot function without specifying `order` is likely to produce an incorrect plot.\n",
      "  warnings.warn(warning)\n",
      "/home/megaticac/miniconda3/lib/python3.8/site-packages/seaborn/_core.py:1319: UserWarning: Vertical orientation ignored with only `x` specified.\n",
      "  warnings.warn(single_var_warning.format(\"Vertical\", \"x\"))\n",
      "/home/megaticac/miniconda3/lib/python3.8/site-packages/seaborn/_core.py:1319: UserWarning: Vertical orientation ignored with only `x` specified.\n",
      "  warnings.warn(single_var_warning.format(\"Vertical\", \"x\"))\n",
      "/home/megaticac/miniconda3/lib/python3.8/site-packages/seaborn/_core.py:1319: UserWarning: Vertical orientation ignored with only `x` specified.\n",
      "  warnings.warn(single_var_warning.format(\"Vertical\", \"x\"))\n",
      "/home/megaticac/miniconda3/lib/python3.8/site-packages/seaborn/_core.py:1319: UserWarning: Vertical orientation ignored with only `x` specified.\n",
      "  warnings.warn(single_var_warning.format(\"Vertical\", \"x\"))\n",
      "/home/megaticac/miniconda3/lib/python3.8/site-packages/seaborn/_core.py:1319: UserWarning: Vertical orientation ignored with only `x` specified.\n",
      "  warnings.warn(single_var_warning.format(\"Vertical\", \"x\"))\n"
     ]
    },
    {
     "data": {
      "image/png": "[encoded data removed]",
      "text/plain": [
       "<Figure size 1080x216 with 5 Axes>"
      ]
     },
     "metadata": {
      "needs_background": "light"
     },
     "output_type": "display_data"
    }
   ],
   "source": [
    "grouped_boxplot(df,'adfert','region')"
   ]
  },
  {
   "cell_type": "code",
   "execution_count": null,
   "id": "2d850ffc",
   "metadata": {},
   "outputs": [],
   "source": []
  },
  {
   "cell_type": "code",
   "execution_count": null,
   "id": "4e7b6ae6",
   "metadata": {},
   "outputs": [],
   "source": []
  }
 ],
 "metadata": {
  "kernelspec": {
   "display_name": "Python 3.8.5 64-bit ('base': conda)",
   "language": "python",
   "name": "python385jvsc74a57bd0c61fab201f911389ae9520dffcdc060d99becfc23d3a2df77a2b0a4933bbf0db"
  },
  "language_info": {
   "codemirror_mode": {
    "name": "ipython",
    "version": 3
   },
   "file_extension": ".py",
   "mimetype": "text/x-python",
   "name": "python",
   "nbconvert_exporter": "python",
   "pygments_lexer": "ipython3",
   "version": "3.8.5"
  }
 },
 "nbformat": 4,
 "nbformat_minor": 5
}
